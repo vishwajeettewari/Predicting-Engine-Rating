{
 "cells": [
  {
   "cell_type": "markdown",
   "metadata": {},
   "source": [
    "<h1 align=center><font size = 5>Data Analysis with Python</font></h1>"
   ]
  },
  {
   "cell_type": "markdown",
   "metadata": {},
   "source": [
    "Exploratory Data Analysis"
   ]
  },
  {
   "cell_type": "markdown",
   "metadata": {},
   "source": [
    "<h3>Welcome!</h3>\n",
    "In this section, we will explore several methods to see if certain characteristics or features can be used to predict engine rating. "
   ]
  },
  {
   "cell_type": "markdown",
   "metadata": {},
   "source": [
    "<h3>What are the main characteristics which have the most impact on the car price?</h3>"
   ]
  },
  {
   "cell_type": "markdown",
   "metadata": {},
   "source": [
    "<h2 id=\"import_data\">1. Import Data from Module 1</h2>"
   ]
  },
  {
   "cell_type": "markdown",
   "metadata": {},
   "source": [
    "<h4>Setup</h4>"
   ]
  },
  {
   "cell_type": "markdown",
   "metadata": {},
   "source": [
    "Import libraries"
   ]
  },
  {
   "cell_type": "code",
   "execution_count": 1,
   "metadata": {},
   "outputs": [],
   "source": [
    "import pandas as pd\n",
    "import numpy as np"
   ]
  },
  {
   "cell_type": "markdown",
   "metadata": {},
   "source": [
    "Load data and store in dataframe data:"
   ]
  },
  {
   "cell_type": "code",
   "execution_count": 6,
   "metadata": {},
   "outputs": [
    {
     "data": {
      "text/html": [
       "<div>\n",
       "<style scoped>\n",
       "    .dataframe tbody tr th:only-of-type {\n",
       "        vertical-align: middle;\n",
       "    }\n",
       "\n",
       "    .dataframe tbody tr th {\n",
       "        vertical-align: top;\n",
       "    }\n",
       "\n",
       "    .dataframe thead th {\n",
       "        text-align: right;\n",
       "    }\n",
       "</style>\n",
       "<table border=\"1\" class=\"dataframe\">\n",
       "  <thead>\n",
       "    <tr style=\"text-align: right;\">\n",
       "      <th></th>\n",
       "      <th>appointmentId</th>\n",
       "      <th>inspectionStartTime</th>\n",
       "      <th>year</th>\n",
       "      <th>month</th>\n",
       "      <th>engineTransmission_battery_value</th>\n",
       "      <th>engineTransmission_engineoilLevelDipstick_value</th>\n",
       "      <th>engineTransmission_engineOil</th>\n",
       "      <th>engineTransmission_engine_value</th>\n",
       "      <th>engineTransmission_coolant_value</th>\n",
       "      <th>engineTransmission_engineMounting_value</th>\n",
       "      <th>engineTransmission_engineSound_value</th>\n",
       "      <th>engineTransmission_exhaustSmoke_value</th>\n",
       "      <th>engineTransmission_engineBlowByBackCompression_value</th>\n",
       "      <th>engineTransmission_clutch_value</th>\n",
       "      <th>engineTransmission_gearShifting_value</th>\n",
       "      <th>fuel_type</th>\n",
       "      <th>odometer_reading</th>\n",
       "      <th>rating_engineTransmission</th>\n",
       "    </tr>\n",
       "  </thead>\n",
       "  <tbody>\n",
       "    <tr>\n",
       "      <th>0</th>\n",
       "      <td>aj_01</td>\n",
       "      <td>2019-02-03 15:43:48</td>\n",
       "      <td>2008</td>\n",
       "      <td>8</td>\n",
       "      <td>0</td>\n",
       "      <td>1</td>\n",
       "      <td>0</td>\n",
       "      <td>0</td>\n",
       "      <td>0</td>\n",
       "      <td>0</td>\n",
       "      <td>0</td>\n",
       "      <td>0</td>\n",
       "      <td>0</td>\n",
       "      <td>0</td>\n",
       "      <td>1</td>\n",
       "      <td>Petrol + CNG</td>\n",
       "      <td>0.124600</td>\n",
       "      <td>3.0</td>\n",
       "    </tr>\n",
       "    <tr>\n",
       "      <th>1</th>\n",
       "      <td>aj_02</td>\n",
       "      <td>2019-01-16 13:02:12</td>\n",
       "      <td>2007</td>\n",
       "      <td>5</td>\n",
       "      <td>1</td>\n",
       "      <td>1</td>\n",
       "      <td>0</td>\n",
       "      <td>0</td>\n",
       "      <td>0</td>\n",
       "      <td>1</td>\n",
       "      <td>0</td>\n",
       "      <td>0</td>\n",
       "      <td>1</td>\n",
       "      <td>1</td>\n",
       "      <td>1</td>\n",
       "      <td>Petrol + CNG</td>\n",
       "      <td>0.078108</td>\n",
       "      <td>4.0</td>\n",
       "    </tr>\n",
       "    <tr>\n",
       "      <th>2</th>\n",
       "      <td>aj_03</td>\n",
       "      <td>2019-02-09 13:31:04</td>\n",
       "      <td>2012</td>\n",
       "      <td>5</td>\n",
       "      <td>1</td>\n",
       "      <td>1</td>\n",
       "      <td>0</td>\n",
       "      <td>1</td>\n",
       "      <td>0</td>\n",
       "      <td>0</td>\n",
       "      <td>0</td>\n",
       "      <td>0</td>\n",
       "      <td>1</td>\n",
       "      <td>0</td>\n",
       "      <td>1</td>\n",
       "      <td>Diesel</td>\n",
       "      <td>0.093348</td>\n",
       "      <td>3.5</td>\n",
       "    </tr>\n",
       "    <tr>\n",
       "      <th>3</th>\n",
       "      <td>aj_04</td>\n",
       "      <td>2019-01-18 11:02:53</td>\n",
       "      <td>2013</td>\n",
       "      <td>1</td>\n",
       "      <td>1</td>\n",
       "      <td>1</td>\n",
       "      <td>0</td>\n",
       "      <td>1</td>\n",
       "      <td>0</td>\n",
       "      <td>1</td>\n",
       "      <td>1</td>\n",
       "      <td>1</td>\n",
       "      <td>1</td>\n",
       "      <td>0</td>\n",
       "      <td>1</td>\n",
       "      <td>Petrol + CNG</td>\n",
       "      <td>0.048233</td>\n",
       "      <td>3.5</td>\n",
       "    </tr>\n",
       "    <tr>\n",
       "      <th>4</th>\n",
       "      <td>aj_05</td>\n",
       "      <td>2019-01-27 12:12:06</td>\n",
       "      <td>2011</td>\n",
       "      <td>7</td>\n",
       "      <td>1</td>\n",
       "      <td>1</td>\n",
       "      <td>0</td>\n",
       "      <td>0</td>\n",
       "      <td>1</td>\n",
       "      <td>0</td>\n",
       "      <td>0</td>\n",
       "      <td>0</td>\n",
       "      <td>1</td>\n",
       "      <td>0</td>\n",
       "      <td>1</td>\n",
       "      <td>Petrol + CNG</td>\n",
       "      <td>0.074368</td>\n",
       "      <td>4.0</td>\n",
       "    </tr>\n",
       "  </tbody>\n",
       "</table>\n",
       "</div>"
      ],
      "text/plain": [
       "  appointmentId  inspectionStartTime  year  month  \\\n",
       "0         aj_01  2019-02-03 15:43:48  2008      8   \n",
       "1         aj_02  2019-01-16 13:02:12  2007      5   \n",
       "2         aj_03  2019-02-09 13:31:04  2012      5   \n",
       "3         aj_04  2019-01-18 11:02:53  2013      1   \n",
       "4         aj_05  2019-01-27 12:12:06  2011      7   \n",
       "\n",
       "   engineTransmission_battery_value  \\\n",
       "0                                 0   \n",
       "1                                 1   \n",
       "2                                 1   \n",
       "3                                 1   \n",
       "4                                 1   \n",
       "\n",
       "   engineTransmission_engineoilLevelDipstick_value  \\\n",
       "0                                                1   \n",
       "1                                                1   \n",
       "2                                                1   \n",
       "3                                                1   \n",
       "4                                                1   \n",
       "\n",
       "   engineTransmission_engineOil  engineTransmission_engine_value  \\\n",
       "0                             0                                0   \n",
       "1                             0                                0   \n",
       "2                             0                                1   \n",
       "3                             0                                1   \n",
       "4                             0                                0   \n",
       "\n",
       "   engineTransmission_coolant_value  engineTransmission_engineMounting_value  \\\n",
       "0                                 0                                        0   \n",
       "1                                 0                                        1   \n",
       "2                                 0                                        0   \n",
       "3                                 0                                        1   \n",
       "4                                 1                                        0   \n",
       "\n",
       "   engineTransmission_engineSound_value  \\\n",
       "0                                     0   \n",
       "1                                     0   \n",
       "2                                     0   \n",
       "3                                     1   \n",
       "4                                     0   \n",
       "\n",
       "   engineTransmission_exhaustSmoke_value  \\\n",
       "0                                      0   \n",
       "1                                      0   \n",
       "2                                      0   \n",
       "3                                      1   \n",
       "4                                      0   \n",
       "\n",
       "   engineTransmission_engineBlowByBackCompression_value  \\\n",
       "0                                                  0      \n",
       "1                                                  1      \n",
       "2                                                  1      \n",
       "3                                                  1      \n",
       "4                                                  1      \n",
       "\n",
       "   engineTransmission_clutch_value  engineTransmission_gearShifting_value  \\\n",
       "0                                0                                      1   \n",
       "1                                1                                      1   \n",
       "2                                0                                      1   \n",
       "3                                0                                      1   \n",
       "4                                0                                      1   \n",
       "\n",
       "      fuel_type  odometer_reading  rating_engineTransmission  \n",
       "0  Petrol + CNG          0.124600                        3.0  \n",
       "1  Petrol + CNG          0.078108                        4.0  \n",
       "2        Diesel          0.093348                        3.5  \n",
       "3  Petrol + CNG          0.048233                        3.5  \n",
       "4  Petrol + CNG          0.074368                        4.0  "
      ]
     },
     "execution_count": 6,
     "metadata": {},
     "output_type": "execute_result"
    }
   ],
   "source": [
    "path='clean_df.csv'\n",
    "data = pd.read_csv(path)\n",
    "data.head()"
   ]
  },
  {
   "cell_type": "markdown",
   "metadata": {},
   "source": [
    "<h2 id=\"pattern_visualization\">2. Analyzing Individual Feature Patterns using Visualization</h2>\n"
   ]
  },
  {
   "cell_type": "markdown",
   "metadata": {},
   "source": [
    "To install seaborn we use the pip which is the python package manager."
   ]
  },
  {
   "cell_type": "code",
   "execution_count": 7,
   "metadata": {},
   "outputs": [
    {
     "name": "stdout",
     "output_type": "stream",
     "text": [
      "Requirement already satisfied: seaborn in /usr/local/lib/python3.8/site-packages (0.10.1)\n",
      "Requirement already satisfied: numpy>=1.13.3 in /usr/local/lib/python3.8/site-packages (from seaborn) (1.18.5)\n",
      "Requirement already satisfied: pandas>=0.22.0 in /usr/local/lib/python3.8/site-packages (from seaborn) (1.0.5)\n",
      "Requirement already satisfied: matplotlib>=2.1.2 in /usr/local/lib/python3.8/site-packages (from seaborn) (3.3.0)\n",
      "Requirement already satisfied: scipy>=1.0.1 in /usr/local/lib/python3.8/site-packages (from seaborn) (1.4.1)\n",
      "Requirement already satisfied: pytz>=2017.2 in /usr/local/lib/python3.8/site-packages (from pandas>=0.22.0->seaborn) (2020.1)\n",
      "Requirement already satisfied: python-dateutil>=2.6.1 in /usr/local/lib/python3.8/site-packages (from pandas>=0.22.0->seaborn) (2.8.1)\n",
      "Requirement already satisfied: pillow>=6.2.0 in /usr/local/lib/python3.8/site-packages (from matplotlib>=2.1.2->seaborn) (7.2.0)\n",
      "Requirement already satisfied: pyparsing!=2.0.4,!=2.1.2,!=2.1.6,>=2.0.3 in /usr/local/lib/python3.8/site-packages (from matplotlib>=2.1.2->seaborn) (2.4.7)\n",
      "Requirement already satisfied: kiwisolver>=1.0.1 in /usr/local/lib/python3.8/site-packages (from matplotlib>=2.1.2->seaborn) (1.2.0)\n",
      "Requirement already satisfied: cycler>=0.10 in /usr/local/lib/python3.8/site-packages (from matplotlib>=2.1.2->seaborn) (0.10.0)\n",
      "Requirement already satisfied: six>=1.5 in /usr/local/lib/python3.8/site-packages (from python-dateutil>=2.6.1->pandas>=0.22.0->seaborn) (1.15.0)\n"
     ]
    }
   ],
   "source": [
    "!pip3 install seaborn"
   ]
  },
  {
   "cell_type": "markdown",
   "metadata": {},
   "source": [
    " Import visualization packages \"Matplotlib\" and \"Seaborn\", don't forget about \"%matplotlib inline\" to plot in a Jupyter notebook."
   ]
  },
  {
   "cell_type": "code",
   "execution_count": 8,
   "metadata": {},
   "outputs": [],
   "source": [
    "import matplotlib.pyplot as plt\n",
    "import seaborn as sns\n",
    "%matplotlib inline "
   ]
  },
  {
   "cell_type": "markdown",
   "metadata": {},
   "source": [
    "<h4>How to choose the right visualization method?</h4>\n",
    "<p>When visualizing individual variables, it is important to first understand what type of variable you are dealing with. This will help us find the right visualization method for that variable.</p>\n",
    "\n"
   ]
  },
  {
   "cell_type": "code",
   "execution_count": 9,
   "metadata": {},
   "outputs": [
    {
     "name": "stdout",
     "output_type": "stream",
     "text": [
      "appointmentId                                            object\n",
      "inspectionStartTime                                      object\n",
      "year                                                      int64\n",
      "month                                                     int64\n",
      "engineTransmission_battery_value                          int64\n",
      "engineTransmission_engineoilLevelDipstick_value           int64\n",
      "engineTransmission_engineOil                              int64\n",
      "engineTransmission_engine_value                           int64\n",
      "engineTransmission_coolant_value                          int64\n",
      "engineTransmission_engineMounting_value                   int64\n",
      "engineTransmission_engineSound_value                      int64\n",
      "engineTransmission_exhaustSmoke_value                     int64\n",
      "engineTransmission_engineBlowByBackCompression_value      int64\n",
      "engineTransmission_clutch_value                           int64\n",
      "engineTransmission_gearShifting_value                     int64\n",
      "fuel_type                                                object\n",
      "odometer_reading                                        float64\n",
      "rating_engineTransmission                               float64\n",
      "dtype: object\n"
     ]
    }
   ],
   "source": [
    "# list the data types for each column\n",
    "print(data.dtypes)"
   ]
  },
  {
   "cell_type": "markdown",
   "metadata": {},
   "source": [
    "<h4> Check correlation using .corr() method.</h4>"
   ]
  },
  {
   "cell_type": "code",
   "execution_count": 11,
   "metadata": {},
   "outputs": [
    {
     "data": {
      "text/html": [
       "<div>\n",
       "<style scoped>\n",
       "    .dataframe tbody tr th:only-of-type {\n",
       "        vertical-align: middle;\n",
       "    }\n",
       "\n",
       "    .dataframe tbody tr th {\n",
       "        vertical-align: top;\n",
       "    }\n",
       "\n",
       "    .dataframe thead th {\n",
       "        text-align: right;\n",
       "    }\n",
       "</style>\n",
       "<table border=\"1\" class=\"dataframe\">\n",
       "  <thead>\n",
       "    <tr style=\"text-align: right;\">\n",
       "      <th></th>\n",
       "      <th>year</th>\n",
       "      <th>month</th>\n",
       "      <th>engineTransmission_battery_value</th>\n",
       "      <th>engineTransmission_engineoilLevelDipstick_value</th>\n",
       "      <th>engineTransmission_engineOil</th>\n",
       "      <th>engineTransmission_engine_value</th>\n",
       "      <th>engineTransmission_coolant_value</th>\n",
       "      <th>engineTransmission_engineMounting_value</th>\n",
       "      <th>engineTransmission_engineSound_value</th>\n",
       "      <th>engineTransmission_exhaustSmoke_value</th>\n",
       "      <th>engineTransmission_engineBlowByBackCompression_value</th>\n",
       "      <th>engineTransmission_clutch_value</th>\n",
       "      <th>engineTransmission_gearShifting_value</th>\n",
       "      <th>odometer_reading</th>\n",
       "      <th>rating_engineTransmission</th>\n",
       "    </tr>\n",
       "  </thead>\n",
       "  <tbody>\n",
       "    <tr>\n",
       "      <th>year</th>\n",
       "      <td>1.000000</td>\n",
       "      <td>0.006427</td>\n",
       "      <td>0.190927</td>\n",
       "      <td>0.064139</td>\n",
       "      <td>0.131861</td>\n",
       "      <td>0.248079</td>\n",
       "      <td>0.199050</td>\n",
       "      <td>0.149083</td>\n",
       "      <td>0.222538</td>\n",
       "      <td>0.209176</td>\n",
       "      <td>0.119316</td>\n",
       "      <td>0.210547</td>\n",
       "      <td>0.150626</td>\n",
       "      <td>-0.408025</td>\n",
       "      <td>0.586554</td>\n",
       "    </tr>\n",
       "    <tr>\n",
       "      <th>month</th>\n",
       "      <td>0.006427</td>\n",
       "      <td>1.000000</td>\n",
       "      <td>-0.006125</td>\n",
       "      <td>0.002642</td>\n",
       "      <td>-0.041010</td>\n",
       "      <td>-0.032707</td>\n",
       "      <td>-0.031800</td>\n",
       "      <td>-0.027484</td>\n",
       "      <td>-0.046290</td>\n",
       "      <td>-0.015582</td>\n",
       "      <td>-0.007700</td>\n",
       "      <td>-0.029887</td>\n",
       "      <td>-0.011594</td>\n",
       "      <td>-0.010909</td>\n",
       "      <td>0.113765</td>\n",
       "    </tr>\n",
       "    <tr>\n",
       "      <th>engineTransmission_battery_value</th>\n",
       "      <td>0.190927</td>\n",
       "      <td>-0.006125</td>\n",
       "      <td>1.000000</td>\n",
       "      <td>0.063010</td>\n",
       "      <td>0.123408</td>\n",
       "      <td>0.219166</td>\n",
       "      <td>0.177476</td>\n",
       "      <td>0.182249</td>\n",
       "      <td>0.140252</td>\n",
       "      <td>0.165169</td>\n",
       "      <td>0.151507</td>\n",
       "      <td>0.181820</td>\n",
       "      <td>0.165195</td>\n",
       "      <td>-0.101358</td>\n",
       "      <td>0.140780</td>\n",
       "    </tr>\n",
       "    <tr>\n",
       "      <th>engineTransmission_engineoilLevelDipstick_value</th>\n",
       "      <td>0.064139</td>\n",
       "      <td>0.002642</td>\n",
       "      <td>0.063010</td>\n",
       "      <td>1.000000</td>\n",
       "      <td>0.050484</td>\n",
       "      <td>0.102733</td>\n",
       "      <td>0.072697</td>\n",
       "      <td>0.065361</td>\n",
       "      <td>0.050837</td>\n",
       "      <td>0.064158</td>\n",
       "      <td>0.074088</td>\n",
       "      <td>0.055613</td>\n",
       "      <td>0.082384</td>\n",
       "      <td>-0.045822</td>\n",
       "      <td>0.064274</td>\n",
       "    </tr>\n",
       "    <tr>\n",
       "      <th>engineTransmission_engineOil</th>\n",
       "      <td>0.131861</td>\n",
       "      <td>-0.041010</td>\n",
       "      <td>0.123408</td>\n",
       "      <td>0.050484</td>\n",
       "      <td>1.000000</td>\n",
       "      <td>0.258777</td>\n",
       "      <td>0.393555</td>\n",
       "      <td>0.233445</td>\n",
       "      <td>0.399814</td>\n",
       "      <td>0.193315</td>\n",
       "      <td>0.101561</td>\n",
       "      <td>0.245471</td>\n",
       "      <td>0.177183</td>\n",
       "      <td>-0.183450</td>\n",
       "      <td>0.025761</td>\n",
       "    </tr>\n",
       "    <tr>\n",
       "      <th>engineTransmission_engine_value</th>\n",
       "      <td>0.248079</td>\n",
       "      <td>-0.032707</td>\n",
       "      <td>0.219166</td>\n",
       "      <td>0.102733</td>\n",
       "      <td>0.258777</td>\n",
       "      <td>1.000000</td>\n",
       "      <td>0.276083</td>\n",
       "      <td>0.330356</td>\n",
       "      <td>0.323905</td>\n",
       "      <td>0.276528</td>\n",
       "      <td>0.193143</td>\n",
       "      <td>0.333622</td>\n",
       "      <td>0.277842</td>\n",
       "      <td>-0.199285</td>\n",
       "      <td>0.181838</td>\n",
       "    </tr>\n",
       "    <tr>\n",
       "      <th>engineTransmission_coolant_value</th>\n",
       "      <td>0.199050</td>\n",
       "      <td>-0.031800</td>\n",
       "      <td>0.177476</td>\n",
       "      <td>0.072697</td>\n",
       "      <td>0.393555</td>\n",
       "      <td>0.276083</td>\n",
       "      <td>1.000000</td>\n",
       "      <td>0.246771</td>\n",
       "      <td>0.268673</td>\n",
       "      <td>0.215966</td>\n",
       "      <td>0.143810</td>\n",
       "      <td>0.233424</td>\n",
       "      <td>0.218354</td>\n",
       "      <td>-0.174574</td>\n",
       "      <td>0.125200</td>\n",
       "    </tr>\n",
       "    <tr>\n",
       "      <th>engineTransmission_engineMounting_value</th>\n",
       "      <td>0.149083</td>\n",
       "      <td>-0.027484</td>\n",
       "      <td>0.182249</td>\n",
       "      <td>0.065361</td>\n",
       "      <td>0.233445</td>\n",
       "      <td>0.330356</td>\n",
       "      <td>0.246771</td>\n",
       "      <td>1.000000</td>\n",
       "      <td>0.331071</td>\n",
       "      <td>0.239768</td>\n",
       "      <td>0.116753</td>\n",
       "      <td>0.332430</td>\n",
       "      <td>0.261838</td>\n",
       "      <td>-0.167620</td>\n",
       "      <td>0.092640</td>\n",
       "    </tr>\n",
       "    <tr>\n",
       "      <th>engineTransmission_engineSound_value</th>\n",
       "      <td>0.222538</td>\n",
       "      <td>-0.046290</td>\n",
       "      <td>0.140252</td>\n",
       "      <td>0.050837</td>\n",
       "      <td>0.399814</td>\n",
       "      <td>0.323905</td>\n",
       "      <td>0.268673</td>\n",
       "      <td>0.331071</td>\n",
       "      <td>1.000000</td>\n",
       "      <td>0.234679</td>\n",
       "      <td>0.108213</td>\n",
       "      <td>0.346540</td>\n",
       "      <td>0.201079</td>\n",
       "      <td>-0.267427</td>\n",
       "      <td>0.079851</td>\n",
       "    </tr>\n",
       "    <tr>\n",
       "      <th>engineTransmission_exhaustSmoke_value</th>\n",
       "      <td>0.209176</td>\n",
       "      <td>-0.015582</td>\n",
       "      <td>0.165169</td>\n",
       "      <td>0.064158</td>\n",
       "      <td>0.193315</td>\n",
       "      <td>0.276528</td>\n",
       "      <td>0.215966</td>\n",
       "      <td>0.239768</td>\n",
       "      <td>0.234679</td>\n",
       "      <td>1.000000</td>\n",
       "      <td>0.202153</td>\n",
       "      <td>0.241504</td>\n",
       "      <td>0.234794</td>\n",
       "      <td>-0.178499</td>\n",
       "      <td>0.186454</td>\n",
       "    </tr>\n",
       "    <tr>\n",
       "      <th>engineTransmission_engineBlowByBackCompression_value</th>\n",
       "      <td>0.119316</td>\n",
       "      <td>-0.007700</td>\n",
       "      <td>0.151507</td>\n",
       "      <td>0.074088</td>\n",
       "      <td>0.101561</td>\n",
       "      <td>0.193143</td>\n",
       "      <td>0.143810</td>\n",
       "      <td>0.116753</td>\n",
       "      <td>0.108213</td>\n",
       "      <td>0.202153</td>\n",
       "      <td>1.000000</td>\n",
       "      <td>0.125691</td>\n",
       "      <td>0.143601</td>\n",
       "      <td>-0.082478</td>\n",
       "      <td>0.163170</td>\n",
       "    </tr>\n",
       "    <tr>\n",
       "      <th>engineTransmission_clutch_value</th>\n",
       "      <td>0.210547</td>\n",
       "      <td>-0.029887</td>\n",
       "      <td>0.181820</td>\n",
       "      <td>0.055613</td>\n",
       "      <td>0.245471</td>\n",
       "      <td>0.333622</td>\n",
       "      <td>0.233424</td>\n",
       "      <td>0.332430</td>\n",
       "      <td>0.346540</td>\n",
       "      <td>0.241504</td>\n",
       "      <td>0.125691</td>\n",
       "      <td>1.000000</td>\n",
       "      <td>0.327611</td>\n",
       "      <td>-0.176055</td>\n",
       "      <td>0.157982</td>\n",
       "    </tr>\n",
       "    <tr>\n",
       "      <th>engineTransmission_gearShifting_value</th>\n",
       "      <td>0.150626</td>\n",
       "      <td>-0.011594</td>\n",
       "      <td>0.165195</td>\n",
       "      <td>0.082384</td>\n",
       "      <td>0.177183</td>\n",
       "      <td>0.277842</td>\n",
       "      <td>0.218354</td>\n",
       "      <td>0.261838</td>\n",
       "      <td>0.201079</td>\n",
       "      <td>0.234794</td>\n",
       "      <td>0.143601</td>\n",
       "      <td>0.327611</td>\n",
       "      <td>1.000000</td>\n",
       "      <td>-0.127433</td>\n",
       "      <td>0.153360</td>\n",
       "    </tr>\n",
       "    <tr>\n",
       "      <th>odometer_reading</th>\n",
       "      <td>-0.408025</td>\n",
       "      <td>-0.010909</td>\n",
       "      <td>-0.101358</td>\n",
       "      <td>-0.045822</td>\n",
       "      <td>-0.183450</td>\n",
       "      <td>-0.199285</td>\n",
       "      <td>-0.174574</td>\n",
       "      <td>-0.167620</td>\n",
       "      <td>-0.267427</td>\n",
       "      <td>-0.178499</td>\n",
       "      <td>-0.082478</td>\n",
       "      <td>-0.176055</td>\n",
       "      <td>-0.127433</td>\n",
       "      <td>1.000000</td>\n",
       "      <td>-0.363312</td>\n",
       "    </tr>\n",
       "    <tr>\n",
       "      <th>rating_engineTransmission</th>\n",
       "      <td>0.586554</td>\n",
       "      <td>0.113765</td>\n",
       "      <td>0.140780</td>\n",
       "      <td>0.064274</td>\n",
       "      <td>0.025761</td>\n",
       "      <td>0.181838</td>\n",
       "      <td>0.125200</td>\n",
       "      <td>0.092640</td>\n",
       "      <td>0.079851</td>\n",
       "      <td>0.186454</td>\n",
       "      <td>0.163170</td>\n",
       "      <td>0.157982</td>\n",
       "      <td>0.153360</td>\n",
       "      <td>-0.363312</td>\n",
       "      <td>1.000000</td>\n",
       "    </tr>\n",
       "  </tbody>\n",
       "</table>\n",
       "</div>"
      ],
      "text/plain": [
       "                                                        year     month  \\\n",
       "year                                                1.000000  0.006427   \n",
       "month                                               0.006427  1.000000   \n",
       "engineTransmission_battery_value                    0.190927 -0.006125   \n",
       "engineTransmission_engineoilLevelDipstick_value     0.064139  0.002642   \n",
       "engineTransmission_engineOil                        0.131861 -0.041010   \n",
       "engineTransmission_engine_value                     0.248079 -0.032707   \n",
       "engineTransmission_coolant_value                    0.199050 -0.031800   \n",
       "engineTransmission_engineMounting_value             0.149083 -0.027484   \n",
       "engineTransmission_engineSound_value                0.222538 -0.046290   \n",
       "engineTransmission_exhaustSmoke_value               0.209176 -0.015582   \n",
       "engineTransmission_engineBlowByBackCompression_...  0.119316 -0.007700   \n",
       "engineTransmission_clutch_value                     0.210547 -0.029887   \n",
       "engineTransmission_gearShifting_value               0.150626 -0.011594   \n",
       "odometer_reading                                   -0.408025 -0.010909   \n",
       "rating_engineTransmission                           0.586554  0.113765   \n",
       "\n",
       "                                                    engineTransmission_battery_value  \\\n",
       "year                                                                        0.190927   \n",
       "month                                                                      -0.006125   \n",
       "engineTransmission_battery_value                                            1.000000   \n",
       "engineTransmission_engineoilLevelDipstick_value                             0.063010   \n",
       "engineTransmission_engineOil                                                0.123408   \n",
       "engineTransmission_engine_value                                             0.219166   \n",
       "engineTransmission_coolant_value                                            0.177476   \n",
       "engineTransmission_engineMounting_value                                     0.182249   \n",
       "engineTransmission_engineSound_value                                        0.140252   \n",
       "engineTransmission_exhaustSmoke_value                                       0.165169   \n",
       "engineTransmission_engineBlowByBackCompression_...                          0.151507   \n",
       "engineTransmission_clutch_value                                             0.181820   \n",
       "engineTransmission_gearShifting_value                                       0.165195   \n",
       "odometer_reading                                                           -0.101358   \n",
       "rating_engineTransmission                                                   0.140780   \n",
       "\n",
       "                                                    engineTransmission_engineoilLevelDipstick_value  \\\n",
       "year                                                                                       0.064139   \n",
       "month                                                                                      0.002642   \n",
       "engineTransmission_battery_value                                                           0.063010   \n",
       "engineTransmission_engineoilLevelDipstick_value                                            1.000000   \n",
       "engineTransmission_engineOil                                                               0.050484   \n",
       "engineTransmission_engine_value                                                            0.102733   \n",
       "engineTransmission_coolant_value                                                           0.072697   \n",
       "engineTransmission_engineMounting_value                                                    0.065361   \n",
       "engineTransmission_engineSound_value                                                       0.050837   \n",
       "engineTransmission_exhaustSmoke_value                                                      0.064158   \n",
       "engineTransmission_engineBlowByBackCompression_...                                         0.074088   \n",
       "engineTransmission_clutch_value                                                            0.055613   \n",
       "engineTransmission_gearShifting_value                                                      0.082384   \n",
       "odometer_reading                                                                          -0.045822   \n",
       "rating_engineTransmission                                                                  0.064274   \n",
       "\n",
       "                                                    engineTransmission_engineOil  \\\n",
       "year                                                                    0.131861   \n",
       "month                                                                  -0.041010   \n",
       "engineTransmission_battery_value                                        0.123408   \n",
       "engineTransmission_engineoilLevelDipstick_value                         0.050484   \n",
       "engineTransmission_engineOil                                            1.000000   \n",
       "engineTransmission_engine_value                                         0.258777   \n",
       "engineTransmission_coolant_value                                        0.393555   \n",
       "engineTransmission_engineMounting_value                                 0.233445   \n",
       "engineTransmission_engineSound_value                                    0.399814   \n",
       "engineTransmission_exhaustSmoke_value                                   0.193315   \n",
       "engineTransmission_engineBlowByBackCompression_...                      0.101561   \n",
       "engineTransmission_clutch_value                                         0.245471   \n",
       "engineTransmission_gearShifting_value                                   0.177183   \n",
       "odometer_reading                                                       -0.183450   \n",
       "rating_engineTransmission                                               0.025761   \n",
       "\n",
       "                                                    engineTransmission_engine_value  \\\n",
       "year                                                                       0.248079   \n",
       "month                                                                     -0.032707   \n",
       "engineTransmission_battery_value                                           0.219166   \n",
       "engineTransmission_engineoilLevelDipstick_value                            0.102733   \n",
       "engineTransmission_engineOil                                               0.258777   \n",
       "engineTransmission_engine_value                                            1.000000   \n",
       "engineTransmission_coolant_value                                           0.276083   \n",
       "engineTransmission_engineMounting_value                                    0.330356   \n",
       "engineTransmission_engineSound_value                                       0.323905   \n",
       "engineTransmission_exhaustSmoke_value                                      0.276528   \n",
       "engineTransmission_engineBlowByBackCompression_...                         0.193143   \n",
       "engineTransmission_clutch_value                                            0.333622   \n",
       "engineTransmission_gearShifting_value                                      0.277842   \n",
       "odometer_reading                                                          -0.199285   \n",
       "rating_engineTransmission                                                  0.181838   \n",
       "\n",
       "                                                    engineTransmission_coolant_value  \\\n",
       "year                                                                        0.199050   \n",
       "month                                                                      -0.031800   \n",
       "engineTransmission_battery_value                                            0.177476   \n",
       "engineTransmission_engineoilLevelDipstick_value                             0.072697   \n",
       "engineTransmission_engineOil                                                0.393555   \n",
       "engineTransmission_engine_value                                             0.276083   \n",
       "engineTransmission_coolant_value                                            1.000000   \n",
       "engineTransmission_engineMounting_value                                     0.246771   \n",
       "engineTransmission_engineSound_value                                        0.268673   \n",
       "engineTransmission_exhaustSmoke_value                                       0.215966   \n",
       "engineTransmission_engineBlowByBackCompression_...                          0.143810   \n",
       "engineTransmission_clutch_value                                             0.233424   \n",
       "engineTransmission_gearShifting_value                                       0.218354   \n",
       "odometer_reading                                                           -0.174574   \n",
       "rating_engineTransmission                                                   0.125200   \n",
       "\n",
       "                                                    engineTransmission_engineMounting_value  \\\n",
       "year                                                                               0.149083   \n",
       "month                                                                             -0.027484   \n",
       "engineTransmission_battery_value                                                   0.182249   \n",
       "engineTransmission_engineoilLevelDipstick_value                                    0.065361   \n",
       "engineTransmission_engineOil                                                       0.233445   \n",
       "engineTransmission_engine_value                                                    0.330356   \n",
       "engineTransmission_coolant_value                                                   0.246771   \n",
       "engineTransmission_engineMounting_value                                            1.000000   \n",
       "engineTransmission_engineSound_value                                               0.331071   \n",
       "engineTransmission_exhaustSmoke_value                                              0.239768   \n",
       "engineTransmission_engineBlowByBackCompression_...                                 0.116753   \n",
       "engineTransmission_clutch_value                                                    0.332430   \n",
       "engineTransmission_gearShifting_value                                              0.261838   \n",
       "odometer_reading                                                                  -0.167620   \n",
       "rating_engineTransmission                                                          0.092640   \n",
       "\n",
       "                                                    engineTransmission_engineSound_value  \\\n",
       "year                                                                            0.222538   \n",
       "month                                                                          -0.046290   \n",
       "engineTransmission_battery_value                                                0.140252   \n",
       "engineTransmission_engineoilLevelDipstick_value                                 0.050837   \n",
       "engineTransmission_engineOil                                                    0.399814   \n",
       "engineTransmission_engine_value                                                 0.323905   \n",
       "engineTransmission_coolant_value                                                0.268673   \n",
       "engineTransmission_engineMounting_value                                         0.331071   \n",
       "engineTransmission_engineSound_value                                            1.000000   \n",
       "engineTransmission_exhaustSmoke_value                                           0.234679   \n",
       "engineTransmission_engineBlowByBackCompression_...                              0.108213   \n",
       "engineTransmission_clutch_value                                                 0.346540   \n",
       "engineTransmission_gearShifting_value                                           0.201079   \n",
       "odometer_reading                                                               -0.267427   \n",
       "rating_engineTransmission                                                       0.079851   \n",
       "\n",
       "                                                    engineTransmission_exhaustSmoke_value  \\\n",
       "year                                                                             0.209176   \n",
       "month                                                                           -0.015582   \n",
       "engineTransmission_battery_value                                                 0.165169   \n",
       "engineTransmission_engineoilLevelDipstick_value                                  0.064158   \n",
       "engineTransmission_engineOil                                                     0.193315   \n",
       "engineTransmission_engine_value                                                  0.276528   \n",
       "engineTransmission_coolant_value                                                 0.215966   \n",
       "engineTransmission_engineMounting_value                                          0.239768   \n",
       "engineTransmission_engineSound_value                                             0.234679   \n",
       "engineTransmission_exhaustSmoke_value                                            1.000000   \n",
       "engineTransmission_engineBlowByBackCompression_...                               0.202153   \n",
       "engineTransmission_clutch_value                                                  0.241504   \n",
       "engineTransmission_gearShifting_value                                            0.234794   \n",
       "odometer_reading                                                                -0.178499   \n",
       "rating_engineTransmission                                                        0.186454   \n",
       "\n",
       "                                                    engineTransmission_engineBlowByBackCompression_value  \\\n",
       "year                                                                                         0.119316      \n",
       "month                                                                                       -0.007700      \n",
       "engineTransmission_battery_value                                                             0.151507      \n",
       "engineTransmission_engineoilLevelDipstick_value                                              0.074088      \n",
       "engineTransmission_engineOil                                                                 0.101561      \n",
       "engineTransmission_engine_value                                                              0.193143      \n",
       "engineTransmission_coolant_value                                                             0.143810      \n",
       "engineTransmission_engineMounting_value                                                      0.116753      \n",
       "engineTransmission_engineSound_value                                                         0.108213      \n",
       "engineTransmission_exhaustSmoke_value                                                        0.202153      \n",
       "engineTransmission_engineBlowByBackCompression_...                                           1.000000      \n",
       "engineTransmission_clutch_value                                                              0.125691      \n",
       "engineTransmission_gearShifting_value                                                        0.143601      \n",
       "odometer_reading                                                                            -0.082478      \n",
       "rating_engineTransmission                                                                    0.163170      \n",
       "\n",
       "                                                    engineTransmission_clutch_value  \\\n",
       "year                                                                       0.210547   \n",
       "month                                                                     -0.029887   \n",
       "engineTransmission_battery_value                                           0.181820   \n",
       "engineTransmission_engineoilLevelDipstick_value                            0.055613   \n",
       "engineTransmission_engineOil                                               0.245471   \n",
       "engineTransmission_engine_value                                            0.333622   \n",
       "engineTransmission_coolant_value                                           0.233424   \n",
       "engineTransmission_engineMounting_value                                    0.332430   \n",
       "engineTransmission_engineSound_value                                       0.346540   \n",
       "engineTransmission_exhaustSmoke_value                                      0.241504   \n",
       "engineTransmission_engineBlowByBackCompression_...                         0.125691   \n",
       "engineTransmission_clutch_value                                            1.000000   \n",
       "engineTransmission_gearShifting_value                                      0.327611   \n",
       "odometer_reading                                                          -0.176055   \n",
       "rating_engineTransmission                                                  0.157982   \n",
       "\n",
       "                                                    engineTransmission_gearShifting_value  \\\n",
       "year                                                                             0.150626   \n",
       "month                                                                           -0.011594   \n",
       "engineTransmission_battery_value                                                 0.165195   \n",
       "engineTransmission_engineoilLevelDipstick_value                                  0.082384   \n",
       "engineTransmission_engineOil                                                     0.177183   \n",
       "engineTransmission_engine_value                                                  0.277842   \n",
       "engineTransmission_coolant_value                                                 0.218354   \n",
       "engineTransmission_engineMounting_value                                          0.261838   \n",
       "engineTransmission_engineSound_value                                             0.201079   \n",
       "engineTransmission_exhaustSmoke_value                                            0.234794   \n",
       "engineTransmission_engineBlowByBackCompression_...                               0.143601   \n",
       "engineTransmission_clutch_value                                                  0.327611   \n",
       "engineTransmission_gearShifting_value                                            1.000000   \n",
       "odometer_reading                                                                -0.127433   \n",
       "rating_engineTransmission                                                        0.153360   \n",
       "\n",
       "                                                    odometer_reading  \\\n",
       "year                                                       -0.408025   \n",
       "month                                                      -0.010909   \n",
       "engineTransmission_battery_value                           -0.101358   \n",
       "engineTransmission_engineoilLevelDipstick_value            -0.045822   \n",
       "engineTransmission_engineOil                               -0.183450   \n",
       "engineTransmission_engine_value                            -0.199285   \n",
       "engineTransmission_coolant_value                           -0.174574   \n",
       "engineTransmission_engineMounting_value                    -0.167620   \n",
       "engineTransmission_engineSound_value                       -0.267427   \n",
       "engineTransmission_exhaustSmoke_value                      -0.178499   \n",
       "engineTransmission_engineBlowByBackCompression_...         -0.082478   \n",
       "engineTransmission_clutch_value                            -0.176055   \n",
       "engineTransmission_gearShifting_value                      -0.127433   \n",
       "odometer_reading                                            1.000000   \n",
       "rating_engineTransmission                                  -0.363312   \n",
       "\n",
       "                                                    rating_engineTransmission  \n",
       "year                                                                 0.586554  \n",
       "month                                                                0.113765  \n",
       "engineTransmission_battery_value                                     0.140780  \n",
       "engineTransmission_engineoilLevelDipstick_value                      0.064274  \n",
       "engineTransmission_engineOil                                         0.025761  \n",
       "engineTransmission_engine_value                                      0.181838  \n",
       "engineTransmission_coolant_value                                     0.125200  \n",
       "engineTransmission_engineMounting_value                              0.092640  \n",
       "engineTransmission_engineSound_value                                 0.079851  \n",
       "engineTransmission_exhaustSmoke_value                                0.186454  \n",
       "engineTransmission_engineBlowByBackCompression_...                   0.163170  \n",
       "engineTransmission_clutch_value                                      0.157982  \n",
       "engineTransmission_gearShifting_value                                0.153360  \n",
       "odometer_reading                                                    -0.363312  \n",
       "rating_engineTransmission                                            1.000000  "
      ]
     },
     "execution_count": 11,
     "metadata": {},
     "output_type": "execute_result"
    }
   ],
   "source": [
    "data.corr()"
   ]
  },
  {
   "cell_type": "markdown",
   "metadata": {},
   "source": [
    "<h2>Continuous numerical variables:</h2> \n",
    "\n",
    "<p>Continuous numerical variables are variables that may contain any value within some range. Continuous numerical variables can have the type \"int64\" or \"float64\". A great way to visualize these variables is by using scatterplots with fitted lines.</p>\n",
    "\n",
    "<p>In order to start understanding the (linear) relationship between an individual variable and the price. We can do this by using \"regplot\", which plots the scatterplot plus the fitted regression line for the data.</p>"
   ]
  },
  {
   "cell_type": "code",
   "execution_count": 13,
   "metadata": {},
   "outputs": [
    {
     "data": {
      "text/plain": [
       "(0.0, 5.393593476287624)"
      ]
     },
     "execution_count": 13,
     "metadata": {},
     "output_type": "execute_result"
    },
    {
     "data": {
      "image/png": "[encoded data removed]",
      "text/plain": [
       "<Figure size 432x288 with 1 Axes>"
      ]
     },
     "metadata": {
      "needs_background": "light"
     },
     "output_type": "display_data"
    }
   ],
   "source": [
    "# odometer_reading as potential predictor variable of rating_engineTransmission\n",
    "sns.regplot(x=\"odometer_reading\", y=\"rating_engineTransmission\", data=data)\n",
    "plt.ylim(0,)"
   ]
  },
  {
   "cell_type": "markdown",
   "metadata": {},
   "source": [
    "<p>As the odometer_reading goes down, the rating_engineTransmission goes up: this indicates a negative direct correlation between these two variables. Odometer_reading seems like a pretty good predictor of price since the regression line is almost a perfect diagonal line.</p>"
   ]
  },
  {
   "cell_type": "markdown",
   "metadata": {},
   "source": [
    "We can examine the correlation between 'odometer_reading' and 'rating_engineTransmission' and see it's approximately: - 0.36"
   ]
  },
  {
   "cell_type": "code",
   "execution_count": 18,
   "metadata": {},
   "outputs": [
    {
     "data": {
      "text/html": [
       "<div>\n",
       "<style scoped>\n",
       "    .dataframe tbody tr th:only-of-type {\n",
       "        vertical-align: middle;\n",
       "    }\n",
       "\n",
       "    .dataframe tbody tr th {\n",
       "        vertical-align: top;\n",
       "    }\n",
       "\n",
       "    .dataframe thead th {\n",
       "        text-align: right;\n",
       "    }\n",
       "</style>\n",
       "<table border=\"1\" class=\"dataframe\">\n",
       "  <thead>\n",
       "    <tr style=\"text-align: right;\">\n",
       "      <th></th>\n",
       "      <th>odometer_reading</th>\n",
       "      <th>rating_engineTransmission</th>\n",
       "    </tr>\n",
       "  </thead>\n",
       "  <tbody>\n",
       "    <tr>\n",
       "      <th>odometer_reading</th>\n",
       "      <td>1.000000</td>\n",
       "      <td>-0.363312</td>\n",
       "    </tr>\n",
       "    <tr>\n",
       "      <th>rating_engineTransmission</th>\n",
       "      <td>-0.363312</td>\n",
       "      <td>1.000000</td>\n",
       "    </tr>\n",
       "  </tbody>\n",
       "</table>\n",
       "</div>"
      ],
      "text/plain": [
       "                           odometer_reading  rating_engineTransmission\n",
       "odometer_reading                   1.000000                  -0.363312\n",
       "rating_engineTransmission         -0.363312                   1.000000"
      ]
     },
     "execution_count": 18,
     "metadata": {},
     "output_type": "execute_result"
    }
   ],
   "source": [
    "data[[\"odometer_reading\", \"rating_engineTransmission\"]].corr()"
   ]
  },
  {
   "cell_type": "code",
   "execution_count": 19,
   "metadata": {},
   "outputs": [
    {
     "data": {
      "text/plain": [
       "(0.0, 5.225)"
      ]
     },
     "execution_count": 19,
     "metadata": {},
     "output_type": "execute_result"
    },
    {
     "data": {
      "image/png": "[encoded data removed]",
      "text/plain": [
       "<Figure size 432x288 with 1 Axes>"
      ]
     },
     "metadata": {
      "needs_background": "light"
     },
     "output_type": "display_data"
    }
   ],
   "source": [
    "# odometer_reading as potential predictor variable of rating_engineTransmission\n",
    "sns.regplot(x=\"year\", y=\"rating_engineTransmission\", data=data)\n",
    "plt.ylim(0,)"
   ]
  },
  {
   "cell_type": "markdown",
   "metadata": {},
   "source": [
    "<p>As the year goes up, the rating_engineTransmission goes up: this indicates a positive direct correlation between these two variables. Year also seems like a pretty good predictor of price since the regression line is almost a perfect diagonal line.</p>"
   ]
  },
  {
   "cell_type": "markdown",
   "metadata": {},
   "source": [
    "We can examine the correlation between 'year' and 'rating_engineTransmission' and see it's approximately: 0.59"
   ]
  },
  {
   "cell_type": "code",
   "execution_count": 20,
   "metadata": {},
   "outputs": [
    {
     "data": {
      "text/html": [
       "<div>\n",
       "<style scoped>\n",
       "    .dataframe tbody tr th:only-of-type {\n",
       "        vertical-align: middle;\n",
       "    }\n",
       "\n",
       "    .dataframe tbody tr th {\n",
       "        vertical-align: top;\n",
       "    }\n",
       "\n",
       "    .dataframe thead th {\n",
       "        text-align: right;\n",
       "    }\n",
       "</style>\n",
       "<table border=\"1\" class=\"dataframe\">\n",
       "  <thead>\n",
       "    <tr style=\"text-align: right;\">\n",
       "      <th></th>\n",
       "      <th>year</th>\n",
       "      <th>rating_engineTransmission</th>\n",
       "    </tr>\n",
       "  </thead>\n",
       "  <tbody>\n",
       "    <tr>\n",
       "      <th>year</th>\n",
       "      <td>1.000000</td>\n",
       "      <td>0.586554</td>\n",
       "    </tr>\n",
       "    <tr>\n",
       "      <th>rating_engineTransmission</th>\n",
       "      <td>0.586554</td>\n",
       "      <td>1.000000</td>\n",
       "    </tr>\n",
       "  </tbody>\n",
       "</table>\n",
       "</div>"
      ],
      "text/plain": [
       "                               year  rating_engineTransmission\n",
       "year                       1.000000                   0.586554\n",
       "rating_engineTransmission  0.586554                   1.000000"
      ]
     },
     "execution_count": 20,
     "metadata": {},
     "output_type": "execute_result"
    }
   ],
   "source": [
    "data[[\"year\", \"rating_engineTransmission\"]].corr()"
   ]
  },
  {
   "cell_type": "markdown",
   "metadata": {},
   "source": [
    "The above continous variables depict strong postive direct correlation with the dependent variable. Hence, they are good predictors."
   ]
  },
  {
   "cell_type": "markdown",
   "metadata": {},
   "source": [
    "<h3>Categorical variables</h3>\n",
    "\n",
    "<p>These are variables that describe a 'characteristic' of a data unit, and are selected from a small group of categories. The categorical variables can have the type \"object\" or \"int64\". A good way to visualize categorical variables is by using boxplots.</p>"
   ]
  },
  {
   "cell_type": "markdown",
   "metadata": {},
   "source": [
    "Let's look at all the possible relationship between independent categorical variables and the dependent variable \"rating_engineTransmission\"."
   ]
  },
  {
   "cell_type": "code",
   "execution_count": 30,
   "metadata": {},
   "outputs": [
    {
     "data": {
      "text/plain": [
       "Index(['appointmentId', 'inspectionStartTime', 'year', 'month',\n",
       "       'engineTransmission_battery_value',\n",
       "       'engineTransmission_engineoilLevelDipstick_value',\n",
       "       'engineTransmission_engineOil', 'engineTransmission_engine_value',\n",
       "       'engineTransmission_coolant_value',\n",
       "       'engineTransmission_engineMounting_value',\n",
       "       'engineTransmission_engineSound_value',\n",
       "       'engineTransmission_exhaustSmoke_value',\n",
       "       'engineTransmission_engineBlowByBackCompression_value',\n",
       "       'engineTransmission_clutch_value',\n",
       "       'engineTransmission_gearShifting_value', 'fuel_type',\n",
       "       'odometer_reading', 'rating_engineTransmission'],\n",
       "      dtype='object')"
      ]
     },
     "execution_count": 30,
     "metadata": {},
     "output_type": "execute_result"
    }
   ],
   "source": [
    "data.columns"
   ]
  },
  {
   "cell_type": "code",
   "execution_count": 31,
   "metadata": {},
   "outputs": [
    {
     "data": {
      "text/plain": [
       "<AxesSubplot:xlabel='engineTransmission_battery_value', ylabel='rating_engineTransmission'>"
      ]
     },
     "execution_count": 31,
     "metadata": {},
     "output_type": "execute_result"
    },
    {
     "data": {
      "image/png": "[encoded data removed]",
      "text/plain": [
       "<Figure size 432x288 with 1 Axes>"
      ]
     },
     "metadata": {
      "needs_background": "light"
     },
     "output_type": "display_data"
    }
   ],
   "source": [
    "sns.boxplot(x='engineTransmission_battery_value', y=\"rating_engineTransmission\", data=data)"
   ]
  },
  {
   "cell_type": "code",
   "execution_count": 42,
   "metadata": {},
   "outputs": [
    {
     "data": {
      "text/plain": [
       "<AxesSubplot:xlabel='engineTransmission_engineoilLevelDipstick_value', ylabel='rating_engineTransmission'>"
      ]
     },
     "execution_count": 42,
     "metadata": {},
     "output_type": "execute_result"
    },
    {
     "data": {
      "image/png": "[encoded data removed]",
      "text/plain": [
       "<Figure size 432x288 with 1 Axes>"
      ]
     },
     "metadata": {
      "needs_background": "light"
     },
     "output_type": "display_data"
    }
   ],
   "source": [
    "sns.boxplot(x='engineTransmission_engineoilLevelDipstick_value', y=\"rating_engineTransmission\", data=data)"
   ]
  },
  {
   "cell_type": "code",
   "execution_count": 43,
   "metadata": {},
   "outputs": [
    {
     "data": {
      "text/plain": [
       "<AxesSubplot:xlabel='engineTransmission_engineOil', ylabel='rating_engineTransmission'>"
      ]
     },
     "execution_count": 43,
     "metadata": {},
     "output_type": "execute_result"
    },
    {
     "data": {
      "image/png": "[encoded data removed]",
      "text/plain": [
       "<Figure size 432x288 with 1 Axes>"
      ]
     },
     "metadata": {
      "needs_background": "light"
     },
     "output_type": "display_data"
    }
   ],
   "source": [
    "sns.boxplot(x='engineTransmission_engineOil', y=\"rating_engineTransmission\", data=data)"
   ]
  },
  {
   "cell_type": "code",
   "execution_count": 44,
   "metadata": {},
   "outputs": [
    {
     "data": {
      "text/plain": [
       "<AxesSubplot:xlabel='engineTransmission_engine_value', ylabel='rating_engineTransmission'>"
      ]
     },
     "execution_count": 44,
     "metadata": {},
     "output_type": "execute_result"
    },
    {
     "data": {
      "image/png": "[encoded data removed]",
      "text/plain": [
       "<Figure size 432x288 with 1 Axes>"
      ]
     },
     "metadata": {
      "needs_background": "light"
     },
     "output_type": "display_data"
    }
   ],
   "source": [
    "sns.boxplot(x='engineTransmission_engine_value', y=\"rating_engineTransmission\", data=data)"
   ]
  },
  {
   "cell_type": "code",
   "execution_count": 45,
   "metadata": {},
   "outputs": [
    {
     "data": {
      "text/plain": [
       "<AxesSubplot:xlabel='engineTransmission_coolant_value', ylabel='rating_engineTransmission'>"
      ]
     },
     "execution_count": 45,
     "metadata": {},
     "output_type": "execute_result"
    },
    {
     "data": {
      "image/png": "[encoded data removed]",
      "text/plain": [
       "<Figure size 432x288 with 1 Axes>"
      ]
     },
     "metadata": {
      "needs_background": "light"
     },
     "output_type": "display_data"
    }
   ],
   "source": [
    "sns.boxplot(x='engineTransmission_coolant_value', y=\"rating_engineTransmission\", data=data)"
   ]
  },
  {
   "cell_type": "code",
   "execution_count": 46,
   "metadata": {},
   "outputs": [
    {
     "data": {
      "text/plain": [
       "<AxesSubplot:xlabel='engineTransmission_engineMounting_value', ylabel='rating_engineTransmission'>"
      ]
     },
     "execution_count": 46,
     "metadata": {},
     "output_type": "execute_result"
    },
    {
     "data": {
      "image/png": "[encoded data removed]",
      "text/plain": [
       "<Figure size 432x288 with 1 Axes>"
      ]
     },
     "metadata": {
      "needs_background": "light"
     },
     "output_type": "display_data"
    }
   ],
   "source": [
    "sns.boxplot(x='engineTransmission_engineMounting_value', y=\"rating_engineTransmission\", data=data)"
   ]
  },
  {
   "cell_type": "code",
   "execution_count": 47,
   "metadata": {},
   "outputs": [
    {
     "data": {
      "text/plain": [
       "<AxesSubplot:xlabel='engineTransmission_engineSound_value', ylabel='rating_engineTransmission'>"
      ]
     },
     "execution_count": 47,
     "metadata": {},
     "output_type": "execute_result"
    },
    {
     "data": {
      "image/png": "[encoded data removed]",
      "text/plain": [
       "<Figure size 432x288 with 1 Axes>"
      ]
     },
     "metadata": {
      "needs_background": "light"
     },
     "output_type": "display_data"
    }
   ],
   "source": [
    "sns.boxplot(x='engineTransmission_engineSound_value', y=\"rating_engineTransmission\", data=data)"
   ]
  },
  {
   "cell_type": "code",
   "execution_count": 48,
   "metadata": {},
   "outputs": [
    {
     "data": {
      "text/plain": [
       "<AxesSubplot:xlabel='engineTransmission_exhaustSmoke_value', ylabel='rating_engineTransmission'>"
      ]
     },
     "execution_count": 48,
     "metadata": {},
     "output_type": "execute_result"
    },
    {
     "data": {
      "image/png": "[encoded data removed]",
      "text/plain": [
       "<Figure size 432x288 with 1 Axes>"
      ]
     },
     "metadata": {
      "needs_background": "light"
     },
     "output_type": "display_data"
    }
   ],
   "source": [
    "sns.boxplot(x='engineTransmission_exhaustSmoke_value', y=\"rating_engineTransmission\", data=data)"
   ]
  },
  {
   "cell_type": "code",
   "execution_count": 49,
   "metadata": {},
   "outputs": [
    {
     "data": {
      "text/plain": [
       "<AxesSubplot:xlabel='engineTransmission_engineBlowByBackCompression_value', ylabel='rating_engineTransmission'>"
      ]
     },
     "execution_count": 49,
     "metadata": {},
     "output_type": "execute_result"
    },
    {
     "data": {
      "image/png": "[encoded data removed]",
      "text/plain": [
       "<Figure size 432x288 with 1 Axes>"
      ]
     },
     "metadata": {
      "needs_background": "light"
     },
     "output_type": "display_data"
    }
   ],
   "source": [
    "sns.boxplot(x='engineTransmission_engineBlowByBackCompression_value', y=\"rating_engineTransmission\", data=data)"
   ]
  },
  {
   "cell_type": "code",
   "execution_count": 50,
   "metadata": {},
   "outputs": [
    {
     "data": {
      "text/plain": [
       "<AxesSubplot:xlabel='engineTransmission_clutch_value', ylabel='rating_engineTransmission'>"
      ]
     },
     "execution_count": 50,
     "metadata": {},
     "output_type": "execute_result"
    },
    {
     "data": {
      "image/png": "[encoded data removed]",
      "text/plain": [
       "<Figure size 432x288 with 1 Axes>"
      ]
     },
     "metadata": {
      "needs_background": "light"
     },
     "output_type": "display_data"
    }
   ],
   "source": [
    "sns.boxplot(x='engineTransmission_clutch_value', y=\"rating_engineTransmission\", data=data)"
   ]
  },
  {
   "cell_type": "code",
   "execution_count": 51,
   "metadata": {},
   "outputs": [
    {
     "data": {
      "text/plain": [
       "<AxesSubplot:xlabel='engineTransmission_gearShifting_value', ylabel='rating_engineTransmission'>"
      ]
     },
     "execution_count": 51,
     "metadata": {},
     "output_type": "execute_result"
    },
    {
     "data": {
      "image/png": "[encoded data removed]",
      "text/plain": [
       "<Figure size 432x288 with 1 Axes>"
      ]
     },
     "metadata": {
      "needs_background": "light"
     },
     "output_type": "display_data"
    }
   ],
   "source": [
    "sns.boxplot(x='engineTransmission_gearShifting_value', y=\"rating_engineTransmission\", data=data)"
   ]
  },
  {
   "cell_type": "code",
   "execution_count": 52,
   "metadata": {},
   "outputs": [
    {
     "data": {
      "text/plain": [
       "<AxesSubplot:xlabel='fuel_type', ylabel='rating_engineTransmission'>"
      ]
     },
     "execution_count": 52,
     "metadata": {},
     "output_type": "execute_result"
    },
    {
     "data": {
      "image/png": "[encoded data removed]",
      "text/plain": [
       "<Figure size 432x288 with 1 Axes>"
      ]
     },
     "metadata": {
      "needs_background": "light"
     },
     "output_type": "display_data"
    }
   ],
   "source": [
    "sns.boxplot(x='fuel_type', y=\"rating_engineTransmission\", data=data)"
   ]
  },
  {
   "cell_type": "markdown",
   "metadata": {},
   "source": [
    "Most of the above plots have overlapping values. Hence, they are not good predictors for the dependent variable but we see that:\n",
    "<ol>\n",
    "    <li>\"engineTransmission_engineBlowByBackCompression_value\" could be a potential predictor.</li>\n",
    "    <li>\"engineTransmission_gearShifting_value\" could be a potential predictor.</li>\n",
    "    <li>\"fuel_type\" plot indicates that Electric fuel_type has lesser \"rating_engineTransmission\" value.</li>\n",
    "</ol>    \n"
   ]
  },
  {
   "cell_type": "markdown",
   "metadata": {},
   "source": [
    "<h2 id=\"discriptive_statistics\">3. Descriptive Statistical Analysis</h2>"
   ]
  },
  {
   "cell_type": "markdown",
   "metadata": {},
   "source": [
    "<p>Let's first take a look at the variables by utilizing a description method.</p>\n",
    "\n",
    "<p>The <b>describe</b> function automatically computes basic statistics for all continuous variables. Any NaN values are automatically skipped in these statistics.</p>\n",
    "\n",
    "This will show:\n",
    "<ul>\n",
    "    <li>the count of that variable</li>\n",
    "    <li>the mean</li>\n",
    "    <li>the standard deviation (std)</li> \n",
    "    <li>the minimum value</li>\n",
    "    <li>the IQR (Interquartile Range: 25%, 50% and 75%)</li>\n",
    "    <li>the maximum value</li>\n",
    "<ul>\n",
    "\n"
   ]
  },
  {
   "cell_type": "markdown",
   "metadata": {},
   "source": [
    "We can apply the method \"describe\" as follows:"
   ]
  },
  {
   "cell_type": "code",
   "execution_count": 55,
   "metadata": {},
   "outputs": [
    {
     "data": {
      "text/html": [
       "<div>\n",
       "<style scoped>\n",
       "    .dataframe tbody tr th:only-of-type {\n",
       "        vertical-align: middle;\n",
       "    }\n",
       "\n",
       "    .dataframe tbody tr th {\n",
       "        vertical-align: top;\n",
       "    }\n",
       "\n",
       "    .dataframe thead th {\n",
       "        text-align: right;\n",
       "    }\n",
       "</style>\n",
       "<table border=\"1\" class=\"dataframe\">\n",
       "  <thead>\n",
       "    <tr style=\"text-align: right;\">\n",
       "      <th></th>\n",
       "      <th>year</th>\n",
       "      <th>month</th>\n",
       "      <th>engineTransmission_battery_value</th>\n",
       "      <th>engineTransmission_engineoilLevelDipstick_value</th>\n",
       "      <th>engineTransmission_engineOil</th>\n",
       "      <th>engineTransmission_engine_value</th>\n",
       "      <th>engineTransmission_coolant_value</th>\n",
       "      <th>engineTransmission_engineMounting_value</th>\n",
       "      <th>engineTransmission_engineSound_value</th>\n",
       "      <th>engineTransmission_exhaustSmoke_value</th>\n",
       "      <th>engineTransmission_engineBlowByBackCompression_value</th>\n",
       "      <th>engineTransmission_clutch_value</th>\n",
       "      <th>engineTransmission_gearShifting_value</th>\n",
       "      <th>odometer_reading</th>\n",
       "      <th>rating_engineTransmission</th>\n",
       "    </tr>\n",
       "  </thead>\n",
       "  <tbody>\n",
       "    <tr>\n",
       "      <th>count</th>\n",
       "      <td>26307.000000</td>\n",
       "      <td>26307.000000</td>\n",
       "      <td>26307.000000</td>\n",
       "      <td>26307.000000</td>\n",
       "      <td>26307.000000</td>\n",
       "      <td>26307.000000</td>\n",
       "      <td>26307.000000</td>\n",
       "      <td>26307.000000</td>\n",
       "      <td>26307.000000</td>\n",
       "      <td>26307.000000</td>\n",
       "      <td>26307.000000</td>\n",
       "      <td>26307.000000</td>\n",
       "      <td>26307.000000</td>\n",
       "      <td>26307.000000</td>\n",
       "      <td>26307.000000</td>\n",
       "    </tr>\n",
       "    <tr>\n",
       "      <th>mean</th>\n",
       "      <td>2010.856578</td>\n",
       "      <td>5.462006</td>\n",
       "      <td>0.869312</td>\n",
       "      <td>0.984377</td>\n",
       "      <td>0.294598</td>\n",
       "      <td>0.655225</td>\n",
       "      <td>0.618505</td>\n",
       "      <td>0.646976</td>\n",
       "      <td>0.278139</td>\n",
       "      <td>0.789220</td>\n",
       "      <td>0.941232</td>\n",
       "      <td>0.552819</td>\n",
       "      <td>0.868324</td>\n",
       "      <td>0.076460</td>\n",
       "      <td>3.624663</td>\n",
       "    </tr>\n",
       "    <tr>\n",
       "      <th>std</th>\n",
       "      <td>3.766234</td>\n",
       "      <td>3.583866</td>\n",
       "      <td>0.337065</td>\n",
       "      <td>0.124015</td>\n",
       "      <td>0.455871</td>\n",
       "      <td>0.475304</td>\n",
       "      <td>0.485763</td>\n",
       "      <td>0.477919</td>\n",
       "      <td>0.448091</td>\n",
       "      <td>0.407871</td>\n",
       "      <td>0.235194</td>\n",
       "      <td>0.497212</td>\n",
       "      <td>0.338145</td>\n",
       "      <td>0.046763</td>\n",
       "      <td>0.847645</td>\n",
       "    </tr>\n",
       "    <tr>\n",
       "      <th>min</th>\n",
       "      <td>1989.000000</td>\n",
       "      <td>1.000000</td>\n",
       "      <td>0.000000</td>\n",
       "      <td>0.000000</td>\n",
       "      <td>0.000000</td>\n",
       "      <td>0.000000</td>\n",
       "      <td>0.000000</td>\n",
       "      <td>0.000000</td>\n",
       "      <td>0.000000</td>\n",
       "      <td>0.000000</td>\n",
       "      <td>0.000000</td>\n",
       "      <td>0.000000</td>\n",
       "      <td>0.000000</td>\n",
       "      <td>0.000001</td>\n",
       "      <td>0.500000</td>\n",
       "    </tr>\n",
       "    <tr>\n",
       "      <th>25%</th>\n",
       "      <td>2008.000000</td>\n",
       "      <td>2.000000</td>\n",
       "      <td>1.000000</td>\n",
       "      <td>1.000000</td>\n",
       "      <td>0.000000</td>\n",
       "      <td>0.000000</td>\n",
       "      <td>0.000000</td>\n",
       "      <td>0.000000</td>\n",
       "      <td>0.000000</td>\n",
       "      <td>1.000000</td>\n",
       "      <td>1.000000</td>\n",
       "      <td>0.000000</td>\n",
       "      <td>1.000000</td>\n",
       "      <td>0.046396</td>\n",
       "      <td>3.500000</td>\n",
       "    </tr>\n",
       "    <tr>\n",
       "      <th>50%</th>\n",
       "      <td>2011.000000</td>\n",
       "      <td>5.000000</td>\n",
       "      <td>1.000000</td>\n",
       "      <td>1.000000</td>\n",
       "      <td>0.000000</td>\n",
       "      <td>1.000000</td>\n",
       "      <td>1.000000</td>\n",
       "      <td>1.000000</td>\n",
       "      <td>0.000000</td>\n",
       "      <td>1.000000</td>\n",
       "      <td>1.000000</td>\n",
       "      <td>1.000000</td>\n",
       "      <td>1.000000</td>\n",
       "      <td>0.072013</td>\n",
       "      <td>4.000000</td>\n",
       "    </tr>\n",
       "    <tr>\n",
       "      <th>75%</th>\n",
       "      <td>2014.000000</td>\n",
       "      <td>9.000000</td>\n",
       "      <td>1.000000</td>\n",
       "      <td>1.000000</td>\n",
       "      <td>1.000000</td>\n",
       "      <td>1.000000</td>\n",
       "      <td>1.000000</td>\n",
       "      <td>1.000000</td>\n",
       "      <td>1.000000</td>\n",
       "      <td>1.000000</td>\n",
       "      <td>1.000000</td>\n",
       "      <td>1.000000</td>\n",
       "      <td>1.000000</td>\n",
       "      <td>0.098290</td>\n",
       "      <td>4.000000</td>\n",
       "    </tr>\n",
       "    <tr>\n",
       "      <th>max</th>\n",
       "      <td>2019.000000</td>\n",
       "      <td>12.000000</td>\n",
       "      <td>1.000000</td>\n",
       "      <td>1.000000</td>\n",
       "      <td>1.000000</td>\n",
       "      <td>1.000000</td>\n",
       "      <td>1.000000</td>\n",
       "      <td>1.000000</td>\n",
       "      <td>1.000000</td>\n",
       "      <td>1.000000</td>\n",
       "      <td>1.000000</td>\n",
       "      <td>1.000000</td>\n",
       "      <td>1.000000</td>\n",
       "      <td>1.000000</td>\n",
       "      <td>5.000000</td>\n",
       "    </tr>\n",
       "  </tbody>\n",
       "</table>\n",
       "</div>"
      ],
      "text/plain": [
       "               year         month  engineTransmission_battery_value  \\\n",
       "count  26307.000000  26307.000000                      26307.000000   \n",
       "mean    2010.856578      5.462006                          0.869312   \n",
       "std        3.766234      3.583866                          0.337065   \n",
       "min     1989.000000      1.000000                          0.000000   \n",
       "25%     2008.000000      2.000000                          1.000000   \n",
       "50%     2011.000000      5.000000                          1.000000   \n",
       "75%     2014.000000      9.000000                          1.000000   \n",
       "max     2019.000000     12.000000                          1.000000   \n",
       "\n",
       "       engineTransmission_engineoilLevelDipstick_value  \\\n",
       "count                                     26307.000000   \n",
       "mean                                          0.984377   \n",
       "std                                           0.124015   \n",
       "min                                           0.000000   \n",
       "25%                                           1.000000   \n",
       "50%                                           1.000000   \n",
       "75%                                           1.000000   \n",
       "max                                           1.000000   \n",
       "\n",
       "       engineTransmission_engineOil  engineTransmission_engine_value  \\\n",
       "count                  26307.000000                     26307.000000   \n",
       "mean                       0.294598                         0.655225   \n",
       "std                        0.455871                         0.475304   \n",
       "min                        0.000000                         0.000000   \n",
       "25%                        0.000000                         0.000000   \n",
       "50%                        0.000000                         1.000000   \n",
       "75%                        1.000000                         1.000000   \n",
       "max                        1.000000                         1.000000   \n",
       "\n",
       "       engineTransmission_coolant_value  \\\n",
       "count                      26307.000000   \n",
       "mean                           0.618505   \n",
       "std                            0.485763   \n",
       "min                            0.000000   \n",
       "25%                            0.000000   \n",
       "50%                            1.000000   \n",
       "75%                            1.000000   \n",
       "max                            1.000000   \n",
       "\n",
       "       engineTransmission_engineMounting_value  \\\n",
       "count                             26307.000000   \n",
       "mean                                  0.646976   \n",
       "std                                   0.477919   \n",
       "min                                   0.000000   \n",
       "25%                                   0.000000   \n",
       "50%                                   1.000000   \n",
       "75%                                   1.000000   \n",
       "max                                   1.000000   \n",
       "\n",
       "       engineTransmission_engineSound_value  \\\n",
       "count                          26307.000000   \n",
       "mean                               0.278139   \n",
       "std                                0.448091   \n",
       "min                                0.000000   \n",
       "25%                                0.000000   \n",
       "50%                                0.000000   \n",
       "75%                                1.000000   \n",
       "max                                1.000000   \n",
       "\n",
       "       engineTransmission_exhaustSmoke_value  \\\n",
       "count                           26307.000000   \n",
       "mean                                0.789220   \n",
       "std                                 0.407871   \n",
       "min                                 0.000000   \n",
       "25%                                 1.000000   \n",
       "50%                                 1.000000   \n",
       "75%                                 1.000000   \n",
       "max                                 1.000000   \n",
       "\n",
       "       engineTransmission_engineBlowByBackCompression_value  \\\n",
       "count                                       26307.000000      \n",
       "mean                                            0.941232      \n",
       "std                                             0.235194      \n",
       "min                                             0.000000      \n",
       "25%                                             1.000000      \n",
       "50%                                             1.000000      \n",
       "75%                                             1.000000      \n",
       "max                                             1.000000      \n",
       "\n",
       "       engineTransmission_clutch_value  engineTransmission_gearShifting_value  \\\n",
       "count                     26307.000000                           26307.000000   \n",
       "mean                          0.552819                               0.868324   \n",
       "std                           0.497212                               0.338145   \n",
       "min                           0.000000                               0.000000   \n",
       "25%                           0.000000                               1.000000   \n",
       "50%                           1.000000                               1.000000   \n",
       "75%                           1.000000                               1.000000   \n",
       "max                           1.000000                               1.000000   \n",
       "\n",
       "       odometer_reading  rating_engineTransmission  \n",
       "count      26307.000000               26307.000000  \n",
       "mean           0.076460                   3.624663  \n",
       "std            0.046763                   0.847645  \n",
       "min            0.000001                   0.500000  \n",
       "25%            0.046396                   3.500000  \n",
       "50%            0.072013                   4.000000  \n",
       "75%            0.098290                   4.000000  \n",
       "max            1.000000                   5.000000  "
      ]
     },
     "execution_count": 55,
     "metadata": {},
     "output_type": "execute_result"
    }
   ],
   "source": [
    "data.describe()"
   ]
  },
  {
   "cell_type": "markdown",
   "metadata": {},
   "source": [
    "The default setting of \"describe\" skips variables of type object. We can apply the method \"describe\" on the variables of type 'object' as follows:"
   ]
  },
  {
   "cell_type": "code",
   "execution_count": 56,
   "metadata": {},
   "outputs": [
    {
     "data": {
      "text/html": [
       "<div>\n",
       "<style scoped>\n",
       "    .dataframe tbody tr th:only-of-type {\n",
       "        vertical-align: middle;\n",
       "    }\n",
       "\n",
       "    .dataframe tbody tr th {\n",
       "        vertical-align: top;\n",
       "    }\n",
       "\n",
       "    .dataframe thead th {\n",
       "        text-align: right;\n",
       "    }\n",
       "</style>\n",
       "<table border=\"1\" class=\"dataframe\">\n",
       "  <thead>\n",
       "    <tr style=\"text-align: right;\">\n",
       "      <th></th>\n",
       "      <th>appointmentId</th>\n",
       "      <th>inspectionStartTime</th>\n",
       "      <th>fuel_type</th>\n",
       "    </tr>\n",
       "  </thead>\n",
       "  <tbody>\n",
       "    <tr>\n",
       "      <th>count</th>\n",
       "      <td>26307</td>\n",
       "      <td>26307</td>\n",
       "      <td>26307</td>\n",
       "    </tr>\n",
       "    <tr>\n",
       "      <th>unique</th>\n",
       "      <td>26307</td>\n",
       "      <td>26203</td>\n",
       "      <td>6</td>\n",
       "    </tr>\n",
       "    <tr>\n",
       "      <th>top</th>\n",
       "      <td>aj_11819</td>\n",
       "      <td>2019-04-05 11:32:38</td>\n",
       "      <td>Petrol</td>\n",
       "    </tr>\n",
       "    <tr>\n",
       "      <th>freq</th>\n",
       "      <td>1</td>\n",
       "      <td>2</td>\n",
       "      <td>10719</td>\n",
       "    </tr>\n",
       "  </tbody>\n",
       "</table>\n",
       "</div>"
      ],
      "text/plain": [
       "       appointmentId  inspectionStartTime fuel_type\n",
       "count          26307                26307     26307\n",
       "unique         26307                26203         6\n",
       "top         aj_11819  2019-04-05 11:32:38    Petrol\n",
       "freq               1                    2     10719"
      ]
     },
     "execution_count": 56,
     "metadata": {},
     "output_type": "execute_result"
    }
   ],
   "source": [
    "data.describe(include=['object'])"
   ]
  },
  {
   "cell_type": "markdown",
   "metadata": {},
   "source": [
    "<h3>Value Counts</h3>"
   ]
  },
  {
   "cell_type": "markdown",
   "metadata": {},
   "source": [
    "<p>Value-counts is a good way of understanding how many units of each characteristic/variable we have. We can apply the \"value_counts\" method on the column 'fuel_type'."
   ]
  },
  {
   "cell_type": "code",
   "execution_count": 57,
   "metadata": {},
   "outputs": [
    {
     "data": {
      "text/plain": [
       "Petrol          10719\n",
       "Diesel           9895\n",
       "Petrol + CNG     5627\n",
       "Petrol + LPG       59\n",
       "Hybrid              5\n",
       "Electric            2\n",
       "Name: fuel_type, dtype: int64"
      ]
     },
     "execution_count": 57,
     "metadata": {},
     "output_type": "execute_result"
    }
   ],
   "source": [
    "data['fuel_type'].value_counts()"
   ]
  },
  {
   "cell_type": "markdown",
   "metadata": {},
   "source": [
    "We can convert the series to a Dataframe as follows :"
   ]
  },
  {
   "cell_type": "code",
   "execution_count": 58,
   "metadata": {},
   "outputs": [
    {
     "data": {
      "text/html": [
       "<div>\n",
       "<style scoped>\n",
       "    .dataframe tbody tr th:only-of-type {\n",
       "        vertical-align: middle;\n",
       "    }\n",
       "\n",
       "    .dataframe tbody tr th {\n",
       "        vertical-align: top;\n",
       "    }\n",
       "\n",
       "    .dataframe thead th {\n",
       "        text-align: right;\n",
       "    }\n",
       "</style>\n",
       "<table border=\"1\" class=\"dataframe\">\n",
       "  <thead>\n",
       "    <tr style=\"text-align: right;\">\n",
       "      <th></th>\n",
       "      <th>fuel_type</th>\n",
       "    </tr>\n",
       "  </thead>\n",
       "  <tbody>\n",
       "    <tr>\n",
       "      <th>Petrol</th>\n",
       "      <td>10719</td>\n",
       "    </tr>\n",
       "    <tr>\n",
       "      <th>Diesel</th>\n",
       "      <td>9895</td>\n",
       "    </tr>\n",
       "    <tr>\n",
       "      <th>Petrol + CNG</th>\n",
       "      <td>5627</td>\n",
       "    </tr>\n",
       "    <tr>\n",
       "      <th>Petrol + LPG</th>\n",
       "      <td>59</td>\n",
       "    </tr>\n",
       "    <tr>\n",
       "      <th>Hybrid</th>\n",
       "      <td>5</td>\n",
       "    </tr>\n",
       "    <tr>\n",
       "      <th>Electric</th>\n",
       "      <td>2</td>\n",
       "    </tr>\n",
       "  </tbody>\n",
       "</table>\n",
       "</div>"
      ],
      "text/plain": [
       "              fuel_type\n",
       "Petrol            10719\n",
       "Diesel             9895\n",
       "Petrol + CNG       5627\n",
       "Petrol + LPG         59\n",
       "Hybrid                5\n",
       "Electric              2"
      ]
     },
     "execution_count": 58,
     "metadata": {},
     "output_type": "execute_result"
    }
   ],
   "source": [
    "data['fuel_type'].value_counts().to_frame()"
   ]
  },
  {
   "cell_type": "markdown",
   "metadata": {},
   "source": [
    "Let's repeat the above steps but save the results to the dataframe \"fuel_type_counts\" and rename the column  'fuel_type' to 'fuel_type_counts'."
   ]
  },
  {
   "cell_type": "code",
   "execution_count": 60,
   "metadata": {},
   "outputs": [
    {
     "data": {
      "text/html": [
       "<div>\n",
       "<style scoped>\n",
       "    .dataframe tbody tr th:only-of-type {\n",
       "        vertical-align: middle;\n",
       "    }\n",
       "\n",
       "    .dataframe tbody tr th {\n",
       "        vertical-align: top;\n",
       "    }\n",
       "\n",
       "    .dataframe thead th {\n",
       "        text-align: right;\n",
       "    }\n",
       "</style>\n",
       "<table border=\"1\" class=\"dataframe\">\n",
       "  <thead>\n",
       "    <tr style=\"text-align: right;\">\n",
       "      <th></th>\n",
       "      <th>fuel_type_counts</th>\n",
       "    </tr>\n",
       "  </thead>\n",
       "  <tbody>\n",
       "    <tr>\n",
       "      <th>Petrol</th>\n",
       "      <td>10719</td>\n",
       "    </tr>\n",
       "    <tr>\n",
       "      <th>Diesel</th>\n",
       "      <td>9895</td>\n",
       "    </tr>\n",
       "    <tr>\n",
       "      <th>Petrol + CNG</th>\n",
       "      <td>5627</td>\n",
       "    </tr>\n",
       "    <tr>\n",
       "      <th>Petrol + LPG</th>\n",
       "      <td>59</td>\n",
       "    </tr>\n",
       "    <tr>\n",
       "      <th>Hybrid</th>\n",
       "      <td>5</td>\n",
       "    </tr>\n",
       "    <tr>\n",
       "      <th>Electric</th>\n",
       "      <td>2</td>\n",
       "    </tr>\n",
       "  </tbody>\n",
       "</table>\n",
       "</div>"
      ],
      "text/plain": [
       "              fuel_type_counts\n",
       "Petrol                   10719\n",
       "Diesel                    9895\n",
       "Petrol + CNG              5627\n",
       "Petrol + LPG                59\n",
       "Hybrid                       5\n",
       "Electric                     2"
      ]
     },
     "execution_count": 60,
     "metadata": {},
     "output_type": "execute_result"
    }
   ],
   "source": [
    "fuel_type_counts = data['fuel_type'].value_counts().to_frame()\n",
    "fuel_type_counts.rename(columns={'fuel_type': 'fuel_type_counts'}, inplace=True)\n",
    "fuel_type_counts"
   ]
  },
  {
   "cell_type": "markdown",
   "metadata": {},
   "source": [
    " Now let's rename the index to 'fuel_type':"
   ]
  },
  {
   "cell_type": "code",
   "execution_count": 61,
   "metadata": {},
   "outputs": [
    {
     "data": {
      "text/html": [
       "<div>\n",
       "<style scoped>\n",
       "    .dataframe tbody tr th:only-of-type {\n",
       "        vertical-align: middle;\n",
       "    }\n",
       "\n",
       "    .dataframe tbody tr th {\n",
       "        vertical-align: top;\n",
       "    }\n",
       "\n",
       "    .dataframe thead th {\n",
       "        text-align: right;\n",
       "    }\n",
       "</style>\n",
       "<table border=\"1\" class=\"dataframe\">\n",
       "  <thead>\n",
       "    <tr style=\"text-align: right;\">\n",
       "      <th></th>\n",
       "      <th>fuel_type_counts</th>\n",
       "    </tr>\n",
       "    <tr>\n",
       "      <th>fuel_type</th>\n",
       "      <th></th>\n",
       "    </tr>\n",
       "  </thead>\n",
       "  <tbody>\n",
       "    <tr>\n",
       "      <th>Petrol</th>\n",
       "      <td>10719</td>\n",
       "    </tr>\n",
       "    <tr>\n",
       "      <th>Diesel</th>\n",
       "      <td>9895</td>\n",
       "    </tr>\n",
       "    <tr>\n",
       "      <th>Petrol + CNG</th>\n",
       "      <td>5627</td>\n",
       "    </tr>\n",
       "    <tr>\n",
       "      <th>Petrol + LPG</th>\n",
       "      <td>59</td>\n",
       "    </tr>\n",
       "    <tr>\n",
       "      <th>Hybrid</th>\n",
       "      <td>5</td>\n",
       "    </tr>\n",
       "    <tr>\n",
       "      <th>Electric</th>\n",
       "      <td>2</td>\n",
       "    </tr>\n",
       "  </tbody>\n",
       "</table>\n",
       "</div>"
      ],
      "text/plain": [
       "              fuel_type_counts\n",
       "fuel_type                     \n",
       "Petrol                   10719\n",
       "Diesel                    9895\n",
       "Petrol + CNG              5627\n",
       "Petrol + LPG                59\n",
       "Hybrid                       5\n",
       "Electric                     2"
      ]
     },
     "execution_count": 61,
     "metadata": {},
     "output_type": "execute_result"
    }
   ],
   "source": [
    "fuel_type_counts.index.name = 'fuel_type'\n",
    "fuel_type_counts"
   ]
  },
  {
   "cell_type": "markdown",
   "metadata": {},
   "source": [
    "As we see difference in different types of values here, we can say that fuel_type is potentially a good predictor."
   ]
  },
  {
   "cell_type": "markdown",
   "metadata": {},
   "source": [
    "<h2 id=\"Grouping\">4. Grouping</h2>"
   ]
  },
  {
   "cell_type": "markdown",
   "metadata": {},
   "source": [
    "<p>The \"groupby\" method groups data by different categories. The data is grouped based on one or several variables and analysis is performed on the individual groups.</p>\n",
    "\n",
    "<p>For example, let's group by the variable \"fuel_type\". We see that there are 6 different categories of drive wheels.</p>"
   ]
  },
  {
   "cell_type": "code",
   "execution_count": 62,
   "metadata": {},
   "outputs": [
    {
     "data": {
      "text/plain": [
       "array(['Petrol + CNG', 'Diesel', 'Petrol', 'Petrol + LPG', 'Hybrid',\n",
       "       'Electric'], dtype=object)"
      ]
     },
     "execution_count": 62,
     "metadata": {},
     "output_type": "execute_result"
    }
   ],
   "source": [
    "data['fuel_type'].unique()"
   ]
  },
  {
   "cell_type": "markdown",
   "metadata": {},
   "source": [
    "<p>If we want to know, on average, which fuel type is most valuable, we can group \"fuel_type\" and then average them.</p>\n",
    "\n",
    "<p>We can select the columns 'fuel_type', 'odometer_reading' and 'rating_engineTransmission', then assign it to the variable \"df_group_one\".</p>"
   ]
  },
  {
   "cell_type": "code",
   "execution_count": 64,
   "metadata": {},
   "outputs": [],
   "source": [
    "df_group_one = data[['fuel_type','odometer_reading','rating_engineTransmission']]"
   ]
  },
  {
   "cell_type": "markdown",
   "metadata": {},
   "source": [
    "We can then calculate the average price for each of the different categories of data."
   ]
  },
  {
   "cell_type": "code",
   "execution_count": 65,
   "metadata": {},
   "outputs": [
    {
     "data": {
      "text/html": [
       "<div>\n",
       "<style scoped>\n",
       "    .dataframe tbody tr th:only-of-type {\n",
       "        vertical-align: middle;\n",
       "    }\n",
       "\n",
       "    .dataframe tbody tr th {\n",
       "        vertical-align: top;\n",
       "    }\n",
       "\n",
       "    .dataframe thead th {\n",
       "        text-align: right;\n",
       "    }\n",
       "</style>\n",
       "<table border=\"1\" class=\"dataframe\">\n",
       "  <thead>\n",
       "    <tr style=\"text-align: right;\">\n",
       "      <th></th>\n",
       "      <th>fuel_type</th>\n",
       "      <th>odometer_reading</th>\n",
       "      <th>rating_engineTransmission</th>\n",
       "    </tr>\n",
       "  </thead>\n",
       "  <tbody>\n",
       "    <tr>\n",
       "      <th>0</th>\n",
       "      <td>Diesel</td>\n",
       "      <td>0.084733</td>\n",
       "      <td>3.664325</td>\n",
       "    </tr>\n",
       "    <tr>\n",
       "      <th>1</th>\n",
       "      <td>Electric</td>\n",
       "      <td>0.026739</td>\n",
       "      <td>2.750000</td>\n",
       "    </tr>\n",
       "    <tr>\n",
       "      <th>2</th>\n",
       "      <td>Hybrid</td>\n",
       "      <td>0.020939</td>\n",
       "      <td>4.600000</td>\n",
       "    </tr>\n",
       "    <tr>\n",
       "      <th>3</th>\n",
       "      <td>Petrol</td>\n",
       "      <td>0.062811</td>\n",
       "      <td>3.672917</td>\n",
       "    </tr>\n",
       "    <tr>\n",
       "      <th>4</th>\n",
       "      <td>Petrol + CNG</td>\n",
       "      <td>0.087938</td>\n",
       "      <td>3.464990</td>\n",
       "    </tr>\n",
       "    <tr>\n",
       "      <th>5</th>\n",
       "      <td>Petrol + LPG</td>\n",
       "      <td>0.080438</td>\n",
       "      <td>3.381356</td>\n",
       "    </tr>\n",
       "  </tbody>\n",
       "</table>\n",
       "</div>"
      ],
      "text/plain": [
       "      fuel_type  odometer_reading  rating_engineTransmission\n",
       "0        Diesel          0.084733                   3.664325\n",
       "1      Electric          0.026739                   2.750000\n",
       "2        Hybrid          0.020939                   4.600000\n",
       "3        Petrol          0.062811                   3.672917\n",
       "4  Petrol + CNG          0.087938                   3.464990\n",
       "5  Petrol + LPG          0.080438                   3.381356"
      ]
     },
     "execution_count": 65,
     "metadata": {},
     "output_type": "execute_result"
    }
   ],
   "source": [
    "# grouping results\n",
    "df_group_one = df_group_one.groupby(['fuel_type'],as_index=False).mean()\n",
    "df_group_one"
   ]
  },
  {
   "cell_type": "markdown",
   "metadata": {},
   "source": [
    "<p>From our data, it seems hybrid vehicle engines are, on average, the highest rated, while Electric are the lowest and rest are approximately the same in rating.</p>\n",
    "\n",
    "<p>You can also group with multiple variables. For example, let's group by both 'fuel_type' and 'odometer_reading'. This groups the dataframe by the unique combinations 'fuel_type' and 'odometer_reading'. We can store the results in the variable 'grouped_test1'.</p>"
   ]
  },
  {
   "cell_type": "code",
   "execution_count": 69,
   "metadata": {},
   "outputs": [
    {
     "data": {
      "text/html": [
       "<div>\n",
       "<style scoped>\n",
       "    .dataframe tbody tr th:only-of-type {\n",
       "        vertical-align: middle;\n",
       "    }\n",
       "\n",
       "    .dataframe tbody tr th {\n",
       "        vertical-align: top;\n",
       "    }\n",
       "\n",
       "    .dataframe thead th {\n",
       "        text-align: right;\n",
       "    }\n",
       "</style>\n",
       "<table border=\"1\" class=\"dataframe\">\n",
       "  <thead>\n",
       "    <tr style=\"text-align: right;\">\n",
       "      <th></th>\n",
       "      <th>fuel_type</th>\n",
       "      <th>odometer_reading</th>\n",
       "      <th>rating_engineTransmission</th>\n",
       "    </tr>\n",
       "  </thead>\n",
       "  <tbody>\n",
       "    <tr>\n",
       "      <th>0</th>\n",
       "      <td>Diesel</td>\n",
       "      <td>0.000001</td>\n",
       "      <td>3.5</td>\n",
       "    </tr>\n",
       "    <tr>\n",
       "      <th>1</th>\n",
       "      <td>Diesel</td>\n",
       "      <td>0.000161</td>\n",
       "      <td>4.0</td>\n",
       "    </tr>\n",
       "    <tr>\n",
       "      <th>2</th>\n",
       "      <td>Diesel</td>\n",
       "      <td>0.000283</td>\n",
       "      <td>5.0</td>\n",
       "    </tr>\n",
       "    <tr>\n",
       "      <th>3</th>\n",
       "      <td>Diesel</td>\n",
       "      <td>0.000532</td>\n",
       "      <td>5.0</td>\n",
       "    </tr>\n",
       "    <tr>\n",
       "      <th>4</th>\n",
       "      <td>Diesel</td>\n",
       "      <td>0.000550</td>\n",
       "      <td>5.0</td>\n",
       "    </tr>\n",
       "    <tr>\n",
       "      <th>...</th>\n",
       "      <td>...</td>\n",
       "      <td>...</td>\n",
       "      <td>...</td>\n",
       "    </tr>\n",
       "    <tr>\n",
       "      <th>25328</th>\n",
       "      <td>Petrol + LPG</td>\n",
       "      <td>0.155346</td>\n",
       "      <td>3.5</td>\n",
       "    </tr>\n",
       "    <tr>\n",
       "      <th>25329</th>\n",
       "      <td>Petrol + LPG</td>\n",
       "      <td>0.172059</td>\n",
       "      <td>3.5</td>\n",
       "    </tr>\n",
       "    <tr>\n",
       "      <th>25330</th>\n",
       "      <td>Petrol + LPG</td>\n",
       "      <td>0.178934</td>\n",
       "      <td>3.0</td>\n",
       "    </tr>\n",
       "    <tr>\n",
       "      <th>25331</th>\n",
       "      <td>Petrol + LPG</td>\n",
       "      <td>0.187845</td>\n",
       "      <td>3.0</td>\n",
       "    </tr>\n",
       "    <tr>\n",
       "      <th>25332</th>\n",
       "      <td>Petrol + LPG</td>\n",
       "      <td>0.202398</td>\n",
       "      <td>3.0</td>\n",
       "    </tr>\n",
       "  </tbody>\n",
       "</table>\n",
       "<p>25333 rows × 3 columns</p>\n",
       "</div>"
      ],
      "text/plain": [
       "          fuel_type  odometer_reading  rating_engineTransmission\n",
       "0            Diesel          0.000001                        3.5\n",
       "1            Diesel          0.000161                        4.0\n",
       "2            Diesel          0.000283                        5.0\n",
       "3            Diesel          0.000532                        5.0\n",
       "4            Diesel          0.000550                        5.0\n",
       "...             ...               ...                        ...\n",
       "25328  Petrol + LPG          0.155346                        3.5\n",
       "25329  Petrol + LPG          0.172059                        3.5\n",
       "25330  Petrol + LPG          0.178934                        3.0\n",
       "25331  Petrol + LPG          0.187845                        3.0\n",
       "25332  Petrol + LPG          0.202398                        3.0\n",
       "\n",
       "[25333 rows x 3 columns]"
      ]
     },
     "execution_count": 69,
     "metadata": {},
     "output_type": "execute_result"
    }
   ],
   "source": [
    "# grouping results\n",
    "df_gptest = data[['fuel_type','odometer_reading','rating_engineTransmission']]\n",
    "grouped_test1 = df_gptest.groupby(['fuel_type','odometer_reading'],as_index=False).mean()\n",
    "grouped_test1"
   ]
  },
  {
   "cell_type": "markdown",
   "metadata": {},
   "source": [
    "<p>This grouped data is much easier to visualize when it is made into a pivot table. A pivot table is like an Excel spreadsheet, with one variable along the column and another along the row. We can convert the dataframe to a pivot table using the method \"pivot \" to create a pivot table from the groups.</p>\n",
    "\n",
    "<p>In this case, we will leave the fuel_type variable as the rows of the table, and pivot odometer_reading to become the columns of the table:</p>"
   ]
  },
  {
   "cell_type": "code",
   "execution_count": 70,
   "metadata": {},
   "outputs": [
    {
     "data": {
      "text/html": [
       "<div>\n",
       "<style scoped>\n",
       "    .dataframe tbody tr th:only-of-type {\n",
       "        vertical-align: middle;\n",
       "    }\n",
       "\n",
       "    .dataframe tbody tr th {\n",
       "        vertical-align: top;\n",
       "    }\n",
       "\n",
       "    .dataframe thead tr th {\n",
       "        text-align: left;\n",
       "    }\n",
       "\n",
       "    .dataframe thead tr:last-of-type th {\n",
       "        text-align: right;\n",
       "    }\n",
       "</style>\n",
       "<table border=\"1\" class=\"dataframe\">\n",
       "  <thead>\n",
       "    <tr>\n",
       "      <th></th>\n",
       "      <th colspan=\"21\" halign=\"left\">rating_engineTransmission</th>\n",
       "    </tr>\n",
       "    <tr>\n",
       "      <th>odometer_reading</th>\n",
       "      <th>0.000001</th>\n",
       "      <th>0.000057</th>\n",
       "      <th>0.000064</th>\n",
       "      <th>0.000078</th>\n",
       "      <th>0.000083</th>\n",
       "      <th>0.000085</th>\n",
       "      <th>0.000107</th>\n",
       "      <th>0.000138</th>\n",
       "      <th>0.000161</th>\n",
       "      <th>0.000164</th>\n",
       "      <th>...</th>\n",
       "      <th>0.740790</th>\n",
       "      <th>0.743294</th>\n",
       "      <th>0.787781</th>\n",
       "      <th>0.826733</th>\n",
       "      <th>0.834667</th>\n",
       "      <th>0.840203</th>\n",
       "      <th>0.911412</th>\n",
       "      <th>0.961088</th>\n",
       "      <th>0.993996</th>\n",
       "      <th>1.000000</th>\n",
       "    </tr>\n",
       "    <tr>\n",
       "      <th>fuel_type</th>\n",
       "      <th></th>\n",
       "      <th></th>\n",
       "      <th></th>\n",
       "      <th></th>\n",
       "      <th></th>\n",
       "      <th></th>\n",
       "      <th></th>\n",
       "      <th></th>\n",
       "      <th></th>\n",
       "      <th></th>\n",
       "      <th></th>\n",
       "      <th></th>\n",
       "      <th></th>\n",
       "      <th></th>\n",
       "      <th></th>\n",
       "      <th></th>\n",
       "      <th></th>\n",
       "      <th></th>\n",
       "      <th></th>\n",
       "      <th></th>\n",
       "      <th></th>\n",
       "    </tr>\n",
       "  </thead>\n",
       "  <tbody>\n",
       "    <tr>\n",
       "      <th>Diesel</th>\n",
       "      <td>3.5</td>\n",
       "      <td>NaN</td>\n",
       "      <td>NaN</td>\n",
       "      <td>NaN</td>\n",
       "      <td>NaN</td>\n",
       "      <td>NaN</td>\n",
       "      <td>NaN</td>\n",
       "      <td>NaN</td>\n",
       "      <td>4.0</td>\n",
       "      <td>NaN</td>\n",
       "      <td>...</td>\n",
       "      <td>NaN</td>\n",
       "      <td>NaN</td>\n",
       "      <td>4.0</td>\n",
       "      <td>NaN</td>\n",
       "      <td>NaN</td>\n",
       "      <td>NaN</td>\n",
       "      <td>NaN</td>\n",
       "      <td>NaN</td>\n",
       "      <td>NaN</td>\n",
       "      <td>NaN</td>\n",
       "    </tr>\n",
       "    <tr>\n",
       "      <th>Electric</th>\n",
       "      <td>NaN</td>\n",
       "      <td>NaN</td>\n",
       "      <td>NaN</td>\n",
       "      <td>NaN</td>\n",
       "      <td>NaN</td>\n",
       "      <td>NaN</td>\n",
       "      <td>NaN</td>\n",
       "      <td>NaN</td>\n",
       "      <td>NaN</td>\n",
       "      <td>NaN</td>\n",
       "      <td>...</td>\n",
       "      <td>NaN</td>\n",
       "      <td>NaN</td>\n",
       "      <td>NaN</td>\n",
       "      <td>NaN</td>\n",
       "      <td>NaN</td>\n",
       "      <td>NaN</td>\n",
       "      <td>NaN</td>\n",
       "      <td>NaN</td>\n",
       "      <td>NaN</td>\n",
       "      <td>NaN</td>\n",
       "    </tr>\n",
       "    <tr>\n",
       "      <th>Hybrid</th>\n",
       "      <td>NaN</td>\n",
       "      <td>NaN</td>\n",
       "      <td>NaN</td>\n",
       "      <td>NaN</td>\n",
       "      <td>NaN</td>\n",
       "      <td>NaN</td>\n",
       "      <td>NaN</td>\n",
       "      <td>NaN</td>\n",
       "      <td>NaN</td>\n",
       "      <td>NaN</td>\n",
       "      <td>...</td>\n",
       "      <td>NaN</td>\n",
       "      <td>NaN</td>\n",
       "      <td>NaN</td>\n",
       "      <td>NaN</td>\n",
       "      <td>NaN</td>\n",
       "      <td>NaN</td>\n",
       "      <td>NaN</td>\n",
       "      <td>NaN</td>\n",
       "      <td>NaN</td>\n",
       "      <td>NaN</td>\n",
       "    </tr>\n",
       "    <tr>\n",
       "      <th>Petrol</th>\n",
       "      <td>2.0</td>\n",
       "      <td>5.0</td>\n",
       "      <td>5.0</td>\n",
       "      <td>5.0</td>\n",
       "      <td>5.0</td>\n",
       "      <td>NaN</td>\n",
       "      <td>5.0</td>\n",
       "      <td>4.5</td>\n",
       "      <td>NaN</td>\n",
       "      <td>5.0</td>\n",
       "      <td>...</td>\n",
       "      <td>NaN</td>\n",
       "      <td>NaN</td>\n",
       "      <td>NaN</td>\n",
       "      <td>3.5</td>\n",
       "      <td>NaN</td>\n",
       "      <td>NaN</td>\n",
       "      <td>4.0</td>\n",
       "      <td>1.0</td>\n",
       "      <td>NaN</td>\n",
       "      <td>1.0</td>\n",
       "    </tr>\n",
       "    <tr>\n",
       "      <th>Petrol + CNG</th>\n",
       "      <td>4.0</td>\n",
       "      <td>NaN</td>\n",
       "      <td>NaN</td>\n",
       "      <td>NaN</td>\n",
       "      <td>NaN</td>\n",
       "      <td>1.0</td>\n",
       "      <td>NaN</td>\n",
       "      <td>NaN</td>\n",
       "      <td>NaN</td>\n",
       "      <td>NaN</td>\n",
       "      <td>...</td>\n",
       "      <td>3.0</td>\n",
       "      <td>3.0</td>\n",
       "      <td>NaN</td>\n",
       "      <td>NaN</td>\n",
       "      <td>1.0</td>\n",
       "      <td>3.0</td>\n",
       "      <td>NaN</td>\n",
       "      <td>NaN</td>\n",
       "      <td>1.0</td>\n",
       "      <td>NaN</td>\n",
       "    </tr>\n",
       "    <tr>\n",
       "      <th>Petrol + LPG</th>\n",
       "      <td>NaN</td>\n",
       "      <td>NaN</td>\n",
       "      <td>NaN</td>\n",
       "      <td>NaN</td>\n",
       "      <td>NaN</td>\n",
       "      <td>NaN</td>\n",
       "      <td>NaN</td>\n",
       "      <td>NaN</td>\n",
       "      <td>NaN</td>\n",
       "      <td>NaN</td>\n",
       "      <td>...</td>\n",
       "      <td>NaN</td>\n",
       "      <td>NaN</td>\n",
       "      <td>NaN</td>\n",
       "      <td>NaN</td>\n",
       "      <td>NaN</td>\n",
       "      <td>NaN</td>\n",
       "      <td>NaN</td>\n",
       "      <td>NaN</td>\n",
       "      <td>NaN</td>\n",
       "      <td>NaN</td>\n",
       "    </tr>\n",
       "  </tbody>\n",
       "</table>\n",
       "<p>6 rows × 23891 columns</p>\n",
       "</div>"
      ],
      "text/plain": [
       "                 rating_engineTransmission                             \\\n",
       "odometer_reading                  0.000001 0.000057 0.000064 0.000078   \n",
       "fuel_type                                                               \n",
       "Diesel                                 3.5      NaN      NaN      NaN   \n",
       "Electric                               NaN      NaN      NaN      NaN   \n",
       "Hybrid                                 NaN      NaN      NaN      NaN   \n",
       "Petrol                                 2.0      5.0      5.0      5.0   \n",
       "Petrol + CNG                           4.0      NaN      NaN      NaN   \n",
       "Petrol + LPG                           NaN      NaN      NaN      NaN   \n",
       "\n",
       "                                                                        ...  \\\n",
       "odometer_reading 0.000083 0.000085 0.000107 0.000138 0.000161 0.000164  ...   \n",
       "fuel_type                                                               ...   \n",
       "Diesel                NaN      NaN      NaN      NaN      4.0      NaN  ...   \n",
       "Electric              NaN      NaN      NaN      NaN      NaN      NaN  ...   \n",
       "Hybrid                NaN      NaN      NaN      NaN      NaN      NaN  ...   \n",
       "Petrol                5.0      NaN      5.0      4.5      NaN      5.0  ...   \n",
       "Petrol + CNG          NaN      1.0      NaN      NaN      NaN      NaN  ...   \n",
       "Petrol + LPG          NaN      NaN      NaN      NaN      NaN      NaN  ...   \n",
       "\n",
       "                                                                        \\\n",
       "odometer_reading 0.740790 0.743294 0.787781 0.826733 0.834667 0.840203   \n",
       "fuel_type                                                                \n",
       "Diesel                NaN      NaN      4.0      NaN      NaN      NaN   \n",
       "Electric              NaN      NaN      NaN      NaN      NaN      NaN   \n",
       "Hybrid                NaN      NaN      NaN      NaN      NaN      NaN   \n",
       "Petrol                NaN      NaN      NaN      3.5      NaN      NaN   \n",
       "Petrol + CNG          3.0      3.0      NaN      NaN      1.0      3.0   \n",
       "Petrol + LPG          NaN      NaN      NaN      NaN      NaN      NaN   \n",
       "\n",
       "                                                      \n",
       "odometer_reading 0.911412 0.961088 0.993996 1.000000  \n",
       "fuel_type                                             \n",
       "Diesel                NaN      NaN      NaN      NaN  \n",
       "Electric              NaN      NaN      NaN      NaN  \n",
       "Hybrid                NaN      NaN      NaN      NaN  \n",
       "Petrol                4.0      1.0      NaN      1.0  \n",
       "Petrol + CNG          NaN      NaN      1.0      NaN  \n",
       "Petrol + LPG          NaN      NaN      NaN      NaN  \n",
       "\n",
       "[6 rows x 23891 columns]"
      ]
     },
     "execution_count": 70,
     "metadata": {},
     "output_type": "execute_result"
    }
   ],
   "source": [
    "grouped_pivot = grouped_test1.pivot(index='fuel_type',columns='odometer_reading')\n",
    "grouped_pivot"
   ]
  },
  {
   "cell_type": "markdown",
   "metadata": {},
   "source": [
    "<p>Often, we won't have data for some of the pivot cells. We can fill these missing cells with the value 0, but any other value could potentially be used as well. It should be mentioned that missing data is quite a complex subject and is an entire course on its own.</p>"
   ]
  },
  {
   "cell_type": "code",
   "execution_count": 84,
   "metadata": {},
   "outputs": [
    {
     "data": {
      "text/html": [
       "<div>\n",
       "<style scoped>\n",
       "    .dataframe tbody tr th:only-of-type {\n",
       "        vertical-align: middle;\n",
       "    }\n",
       "\n",
       "    .dataframe tbody tr th {\n",
       "        vertical-align: top;\n",
       "    }\n",
       "\n",
       "    .dataframe thead tr th {\n",
       "        text-align: left;\n",
       "    }\n",
       "\n",
       "    .dataframe thead tr:last-of-type th {\n",
       "        text-align: right;\n",
       "    }\n",
       "</style>\n",
       "<table border=\"1\" class=\"dataframe\">\n",
       "  <thead>\n",
       "    <tr>\n",
       "      <th></th>\n",
       "      <th colspan=\"21\" halign=\"left\">rating_engineTransmission</th>\n",
       "    </tr>\n",
       "    <tr>\n",
       "      <th>odometer_reading</th>\n",
       "      <th>0.000001</th>\n",
       "      <th>0.000057</th>\n",
       "      <th>0.000064</th>\n",
       "      <th>0.000078</th>\n",
       "      <th>0.000083</th>\n",
       "      <th>0.000085</th>\n",
       "      <th>0.000107</th>\n",
       "      <th>0.000138</th>\n",
       "      <th>0.000161</th>\n",
       "      <th>0.000164</th>\n",
       "      <th>...</th>\n",
       "      <th>0.740790</th>\n",
       "      <th>0.743294</th>\n",
       "      <th>0.787781</th>\n",
       "      <th>0.826733</th>\n",
       "      <th>0.834667</th>\n",
       "      <th>0.840203</th>\n",
       "      <th>0.911412</th>\n",
       "      <th>0.961088</th>\n",
       "      <th>0.993996</th>\n",
       "      <th>1.000000</th>\n",
       "    </tr>\n",
       "    <tr>\n",
       "      <th>fuel_type</th>\n",
       "      <th></th>\n",
       "      <th></th>\n",
       "      <th></th>\n",
       "      <th></th>\n",
       "      <th></th>\n",
       "      <th></th>\n",
       "      <th></th>\n",
       "      <th></th>\n",
       "      <th></th>\n",
       "      <th></th>\n",
       "      <th></th>\n",
       "      <th></th>\n",
       "      <th></th>\n",
       "      <th></th>\n",
       "      <th></th>\n",
       "      <th></th>\n",
       "      <th></th>\n",
       "      <th></th>\n",
       "      <th></th>\n",
       "      <th></th>\n",
       "      <th></th>\n",
       "    </tr>\n",
       "  </thead>\n",
       "  <tbody>\n",
       "    <tr>\n",
       "      <th>Diesel</th>\n",
       "      <td>3.5</td>\n",
       "      <td>0.0</td>\n",
       "      <td>0.0</td>\n",
       "      <td>0.0</td>\n",
       "      <td>0.0</td>\n",
       "      <td>0.0</td>\n",
       "      <td>0.0</td>\n",
       "      <td>0.0</td>\n",
       "      <td>4.0</td>\n",
       "      <td>0.0</td>\n",
       "      <td>...</td>\n",
       "      <td>0.0</td>\n",
       "      <td>0.0</td>\n",
       "      <td>4.0</td>\n",
       "      <td>0.0</td>\n",
       "      <td>0.0</td>\n",
       "      <td>0.0</td>\n",
       "      <td>0.0</td>\n",
       "      <td>0.0</td>\n",
       "      <td>0.0</td>\n",
       "      <td>0.0</td>\n",
       "    </tr>\n",
       "    <tr>\n",
       "      <th>Electric</th>\n",
       "      <td>0.0</td>\n",
       "      <td>0.0</td>\n",
       "      <td>0.0</td>\n",
       "      <td>0.0</td>\n",
       "      <td>0.0</td>\n",
       "      <td>0.0</td>\n",
       "      <td>0.0</td>\n",
       "      <td>0.0</td>\n",
       "      <td>0.0</td>\n",
       "      <td>0.0</td>\n",
       "      <td>...</td>\n",
       "      <td>0.0</td>\n",
       "      <td>0.0</td>\n",
       "      <td>0.0</td>\n",
       "      <td>0.0</td>\n",
       "      <td>0.0</td>\n",
       "      <td>0.0</td>\n",
       "      <td>0.0</td>\n",
       "      <td>0.0</td>\n",
       "      <td>0.0</td>\n",
       "      <td>0.0</td>\n",
       "    </tr>\n",
       "    <tr>\n",
       "      <th>Hybrid</th>\n",
       "      <td>0.0</td>\n",
       "      <td>0.0</td>\n",
       "      <td>0.0</td>\n",
       "      <td>0.0</td>\n",
       "      <td>0.0</td>\n",
       "      <td>0.0</td>\n",
       "      <td>0.0</td>\n",
       "      <td>0.0</td>\n",
       "      <td>0.0</td>\n",
       "      <td>0.0</td>\n",
       "      <td>...</td>\n",
       "      <td>0.0</td>\n",
       "      <td>0.0</td>\n",
       "      <td>0.0</td>\n",
       "      <td>0.0</td>\n",
       "      <td>0.0</td>\n",
       "      <td>0.0</td>\n",
       "      <td>0.0</td>\n",
       "      <td>0.0</td>\n",
       "      <td>0.0</td>\n",
       "      <td>0.0</td>\n",
       "    </tr>\n",
       "    <tr>\n",
       "      <th>Petrol</th>\n",
       "      <td>2.0</td>\n",
       "      <td>5.0</td>\n",
       "      <td>5.0</td>\n",
       "      <td>5.0</td>\n",
       "      <td>5.0</td>\n",
       "      <td>0.0</td>\n",
       "      <td>5.0</td>\n",
       "      <td>4.5</td>\n",
       "      <td>0.0</td>\n",
       "      <td>5.0</td>\n",
       "      <td>...</td>\n",
       "      <td>0.0</td>\n",
       "      <td>0.0</td>\n",
       "      <td>0.0</td>\n",
       "      <td>3.5</td>\n",
       "      <td>0.0</td>\n",
       "      <td>0.0</td>\n",
       "      <td>4.0</td>\n",
       "      <td>1.0</td>\n",
       "      <td>0.0</td>\n",
       "      <td>1.0</td>\n",
       "    </tr>\n",
       "    <tr>\n",
       "      <th>Petrol + CNG</th>\n",
       "      <td>4.0</td>\n",
       "      <td>0.0</td>\n",
       "      <td>0.0</td>\n",
       "      <td>0.0</td>\n",
       "      <td>0.0</td>\n",
       "      <td>1.0</td>\n",
       "      <td>0.0</td>\n",
       "      <td>0.0</td>\n",
       "      <td>0.0</td>\n",
       "      <td>0.0</td>\n",
       "      <td>...</td>\n",
       "      <td>3.0</td>\n",
       "      <td>3.0</td>\n",
       "      <td>0.0</td>\n",
       "      <td>0.0</td>\n",
       "      <td>1.0</td>\n",
       "      <td>3.0</td>\n",
       "      <td>0.0</td>\n",
       "      <td>0.0</td>\n",
       "      <td>1.0</td>\n",
       "      <td>0.0</td>\n",
       "    </tr>\n",
       "    <tr>\n",
       "      <th>Petrol + LPG</th>\n",
       "      <td>0.0</td>\n",
       "      <td>0.0</td>\n",
       "      <td>0.0</td>\n",
       "      <td>0.0</td>\n",
       "      <td>0.0</td>\n",
       "      <td>0.0</td>\n",
       "      <td>0.0</td>\n",
       "      <td>0.0</td>\n",
       "      <td>0.0</td>\n",
       "      <td>0.0</td>\n",
       "      <td>...</td>\n",
       "      <td>0.0</td>\n",
       "      <td>0.0</td>\n",
       "      <td>0.0</td>\n",
       "      <td>0.0</td>\n",
       "      <td>0.0</td>\n",
       "      <td>0.0</td>\n",
       "      <td>0.0</td>\n",
       "      <td>0.0</td>\n",
       "      <td>0.0</td>\n",
       "      <td>0.0</td>\n",
       "    </tr>\n",
       "  </tbody>\n",
       "</table>\n",
       "<p>6 rows × 23891 columns</p>\n",
       "</div>"
      ],
      "text/plain": [
       "                 rating_engineTransmission                             \\\n",
       "odometer_reading                  0.000001 0.000057 0.000064 0.000078   \n",
       "fuel_type                                                               \n",
       "Diesel                                 3.5      0.0      0.0      0.0   \n",
       "Electric                               0.0      0.0      0.0      0.0   \n",
       "Hybrid                                 0.0      0.0      0.0      0.0   \n",
       "Petrol                                 2.0      5.0      5.0      5.0   \n",
       "Petrol + CNG                           4.0      0.0      0.0      0.0   \n",
       "Petrol + LPG                           0.0      0.0      0.0      0.0   \n",
       "\n",
       "                                                                        ...  \\\n",
       "odometer_reading 0.000083 0.000085 0.000107 0.000138 0.000161 0.000164  ...   \n",
       "fuel_type                                                               ...   \n",
       "Diesel                0.0      0.0      0.0      0.0      4.0      0.0  ...   \n",
       "Electric              0.0      0.0      0.0      0.0      0.0      0.0  ...   \n",
       "Hybrid                0.0      0.0      0.0      0.0      0.0      0.0  ...   \n",
       "Petrol                5.0      0.0      5.0      4.5      0.0      5.0  ...   \n",
       "Petrol + CNG          0.0      1.0      0.0      0.0      0.0      0.0  ...   \n",
       "Petrol + LPG          0.0      0.0      0.0      0.0      0.0      0.0  ...   \n",
       "\n",
       "                                                                        \\\n",
       "odometer_reading 0.740790 0.743294 0.787781 0.826733 0.834667 0.840203   \n",
       "fuel_type                                                                \n",
       "Diesel                0.0      0.0      4.0      0.0      0.0      0.0   \n",
       "Electric              0.0      0.0      0.0      0.0      0.0      0.0   \n",
       "Hybrid                0.0      0.0      0.0      0.0      0.0      0.0   \n",
       "Petrol                0.0      0.0      0.0      3.5      0.0      0.0   \n",
       "Petrol + CNG          3.0      3.0      0.0      0.0      1.0      3.0   \n",
       "Petrol + LPG          0.0      0.0      0.0      0.0      0.0      0.0   \n",
       "\n",
       "                                                      \n",
       "odometer_reading 0.911412 0.961088 0.993996 1.000000  \n",
       "fuel_type                                             \n",
       "Diesel                0.0      0.0      0.0      0.0  \n",
       "Electric              0.0      0.0      0.0      0.0  \n",
       "Hybrid                0.0      0.0      0.0      0.0  \n",
       "Petrol                4.0      1.0      0.0      1.0  \n",
       "Petrol + CNG          0.0      0.0      1.0      0.0  \n",
       "Petrol + LPG          0.0      0.0      0.0      0.0  \n",
       "\n",
       "[6 rows x 23891 columns]"
      ]
     },
     "execution_count": 84,
     "metadata": {},
     "output_type": "execute_result"
    }
   ],
   "source": [
    "grouped_pivot = grouped_pivot.fillna(0) #fill missing values with 0\n",
    "grouped_pivot"
   ]
  },
  {
   "cell_type": "markdown",
   "metadata": {},
   "source": [
    "Let's import pyplot."
   ]
  },
  {
   "cell_type": "code",
   "execution_count": 85,
   "metadata": {},
   "outputs": [],
   "source": [
    "import matplotlib.pyplot as plt\n",
    "%matplotlib inline "
   ]
  },
  {
   "cell_type": "markdown",
   "metadata": {},
   "source": [
    "<h4>Variables: Fuel type and Odometer reading vs rating_engineTransmission</h4>"
   ]
  },
  {
   "cell_type": "markdown",
   "metadata": {},
   "source": [
    "Let's use a heat map to visualize the relationship between Fuel Type vs rating_engineTransmission."
   ]
  },
  {
   "cell_type": "code",
   "execution_count": 87,
   "metadata": {},
   "outputs": [
    {
     "data": {
      "image/png": "[encoded data removed]",
      "text/plain": [
       "<Figure size 432x288 with 2 Axes>"
      ]
     },
     "metadata": {
      "needs_background": "light"
     },
     "output_type": "display_data"
    }
   ],
   "source": [
    "#use the grouped results\n",
    "plt.pcolor(grouped_pivot, cmap='RdBu')\n",
    "plt.colorbar()\n",
    "plt.show()"
   ]
  },
  {
   "cell_type": "markdown",
   "metadata": {},
   "source": [
    "<p>The heatmap plots the target variable (rating_engineTransmission) proportional to colour with respect to the variables 'fuel_type' and 'odometer_reading' in the vertical and horizontal axis respectively. This allows us to visualize how the price is related to 'fuel_type' and 'odometer_reading'.</p>"
   ]
  },
  {
   "cell_type": "markdown",
   "metadata": {},
   "source": [
    "<p>To get a better measure of the important characteristics, we look at the correlation of these variables</p>"
   ]
  },
  {
   "cell_type": "markdown",
   "metadata": {},
   "source": [
    "<h2 id=\"correlation_causation\">5. Correlation and Causation</h2>"
   ]
  },
  {
   "cell_type": "markdown",
   "metadata": {},
   "source": [
    "<p><b>Correlation</b>: a measure of the extent of interdependence between variables.</p>\n",
    "\n",
    "<p><b>Causation</b>: the relationship between cause and effect between two variables.</p>\n",
    "\n",
    "<p>It is important to know the difference between these two and that correlation does not imply causation. Determining correlation is much simpler  the determining causation as causation may require independent experimentation.</p>"
   ]
  },
  {
   "cell_type": "markdown",
   "metadata": {},
   "source": [
    "<p>Pearson Correlation</p>\n",
    "<p>The Pearson Correlation measures the linear dependence between two variables X and Y.</p>\n",
    "<p>The resulting coefficient is a value between -1 and 1 inclusive, where:</p>\n",
    "<ul>\n",
    "    <li><b>1</b>: Total positive linear correlation.</li>\n",
    "    <li><b>0</b>: No linear correlation, the two variables most likely do not affect each other.</li>\n",
    "    <li><b>-1</b>: Total negative linear correlation.</li>\n",
    "</ul>"
   ]
  },
  {
   "cell_type": "markdown",
   "metadata": {},
   "source": [
    "<p>Pearson Correlation is the default method of the function \"corr\".  Like before we can calculate the Pearson Correlation of the of the 'int64' or 'float64'  variables.</p>"
   ]
  },
  {
   "cell_type": "code",
   "execution_count": 77,
   "metadata": {},
   "outputs": [
    {
     "data": {
      "text/html": [
       "<div>\n",
       "<style scoped>\n",
       "    .dataframe tbody tr th:only-of-type {\n",
       "        vertical-align: middle;\n",
       "    }\n",
       "\n",
       "    .dataframe tbody tr th {\n",
       "        vertical-align: top;\n",
       "    }\n",
       "\n",
       "    .dataframe thead th {\n",
       "        text-align: right;\n",
       "    }\n",
       "</style>\n",
       "<table border=\"1\" class=\"dataframe\">\n",
       "  <thead>\n",
       "    <tr style=\"text-align: right;\">\n",
       "      <th></th>\n",
       "      <th>year</th>\n",
       "      <th>month</th>\n",
       "      <th>engineTransmission_battery_value</th>\n",
       "      <th>engineTransmission_engineoilLevelDipstick_value</th>\n",
       "      <th>engineTransmission_engineOil</th>\n",
       "      <th>engineTransmission_engine_value</th>\n",
       "      <th>engineTransmission_coolant_value</th>\n",
       "      <th>engineTransmission_engineMounting_value</th>\n",
       "      <th>engineTransmission_engineSound_value</th>\n",
       "      <th>engineTransmission_exhaustSmoke_value</th>\n",
       "      <th>engineTransmission_engineBlowByBackCompression_value</th>\n",
       "      <th>engineTransmission_clutch_value</th>\n",
       "      <th>engineTransmission_gearShifting_value</th>\n",
       "      <th>odometer_reading</th>\n",
       "      <th>rating_engineTransmission</th>\n",
       "    </tr>\n",
       "  </thead>\n",
       "  <tbody>\n",
       "    <tr>\n",
       "      <th>year</th>\n",
       "      <td>1.000000</td>\n",
       "      <td>0.006427</td>\n",
       "      <td>0.190927</td>\n",
       "      <td>0.064139</td>\n",
       "      <td>0.131861</td>\n",
       "      <td>0.248079</td>\n",
       "      <td>0.199050</td>\n",
       "      <td>0.149083</td>\n",
       "      <td>0.222538</td>\n",
       "      <td>0.209176</td>\n",
       "      <td>0.119316</td>\n",
       "      <td>0.210547</td>\n",
       "      <td>0.150626</td>\n",
       "      <td>-0.408025</td>\n",
       "      <td>0.586554</td>\n",
       "    </tr>\n",
       "    <tr>\n",
       "      <th>month</th>\n",
       "      <td>0.006427</td>\n",
       "      <td>1.000000</td>\n",
       "      <td>-0.006125</td>\n",
       "      <td>0.002642</td>\n",
       "      <td>-0.041010</td>\n",
       "      <td>-0.032707</td>\n",
       "      <td>-0.031800</td>\n",
       "      <td>-0.027484</td>\n",
       "      <td>-0.046290</td>\n",
       "      <td>-0.015582</td>\n",
       "      <td>-0.007700</td>\n",
       "      <td>-0.029887</td>\n",
       "      <td>-0.011594</td>\n",
       "      <td>-0.010909</td>\n",
       "      <td>0.113765</td>\n",
       "    </tr>\n",
       "    <tr>\n",
       "      <th>engineTransmission_battery_value</th>\n",
       "      <td>0.190927</td>\n",
       "      <td>-0.006125</td>\n",
       "      <td>1.000000</td>\n",
       "      <td>0.063010</td>\n",
       "      <td>0.123408</td>\n",
       "      <td>0.219166</td>\n",
       "      <td>0.177476</td>\n",
       "      <td>0.182249</td>\n",
       "      <td>0.140252</td>\n",
       "      <td>0.165169</td>\n",
       "      <td>0.151507</td>\n",
       "      <td>0.181820</td>\n",
       "      <td>0.165195</td>\n",
       "      <td>-0.101358</td>\n",
       "      <td>0.140780</td>\n",
       "    </tr>\n",
       "    <tr>\n",
       "      <th>engineTransmission_engineoilLevelDipstick_value</th>\n",
       "      <td>0.064139</td>\n",
       "      <td>0.002642</td>\n",
       "      <td>0.063010</td>\n",
       "      <td>1.000000</td>\n",
       "      <td>0.050484</td>\n",
       "      <td>0.102733</td>\n",
       "      <td>0.072697</td>\n",
       "      <td>0.065361</td>\n",
       "      <td>0.050837</td>\n",
       "      <td>0.064158</td>\n",
       "      <td>0.074088</td>\n",
       "      <td>0.055613</td>\n",
       "      <td>0.082384</td>\n",
       "      <td>-0.045822</td>\n",
       "      <td>0.064274</td>\n",
       "    </tr>\n",
       "    <tr>\n",
       "      <th>engineTransmission_engineOil</th>\n",
       "      <td>0.131861</td>\n",
       "      <td>-0.041010</td>\n",
       "      <td>0.123408</td>\n",
       "      <td>0.050484</td>\n",
       "      <td>1.000000</td>\n",
       "      <td>0.258777</td>\n",
       "      <td>0.393555</td>\n",
       "      <td>0.233445</td>\n",
       "      <td>0.399814</td>\n",
       "      <td>0.193315</td>\n",
       "      <td>0.101561</td>\n",
       "      <td>0.245471</td>\n",
       "      <td>0.177183</td>\n",
       "      <td>-0.183450</td>\n",
       "      <td>0.025761</td>\n",
       "    </tr>\n",
       "    <tr>\n",
       "      <th>engineTransmission_engine_value</th>\n",
       "      <td>0.248079</td>\n",
       "      <td>-0.032707</td>\n",
       "      <td>0.219166</td>\n",
       "      <td>0.102733</td>\n",
       "      <td>0.258777</td>\n",
       "      <td>1.000000</td>\n",
       "      <td>0.276083</td>\n",
       "      <td>0.330356</td>\n",
       "      <td>0.323905</td>\n",
       "      <td>0.276528</td>\n",
       "      <td>0.193143</td>\n",
       "      <td>0.333622</td>\n",
       "      <td>0.277842</td>\n",
       "      <td>-0.199285</td>\n",
       "      <td>0.181838</td>\n",
       "    </tr>\n",
       "    <tr>\n",
       "      <th>engineTransmission_coolant_value</th>\n",
       "      <td>0.199050</td>\n",
       "      <td>-0.031800</td>\n",
       "      <td>0.177476</td>\n",
       "      <td>0.072697</td>\n",
       "      <td>0.393555</td>\n",
       "      <td>0.276083</td>\n",
       "      <td>1.000000</td>\n",
       "      <td>0.246771</td>\n",
       "      <td>0.268673</td>\n",
       "      <td>0.215966</td>\n",
       "      <td>0.143810</td>\n",
       "      <td>0.233424</td>\n",
       "      <td>0.218354</td>\n",
       "      <td>-0.174574</td>\n",
       "      <td>0.125200</td>\n",
       "    </tr>\n",
       "    <tr>\n",
       "      <th>engineTransmission_engineMounting_value</th>\n",
       "      <td>0.149083</td>\n",
       "      <td>-0.027484</td>\n",
       "      <td>0.182249</td>\n",
       "      <td>0.065361</td>\n",
       "      <td>0.233445</td>\n",
       "      <td>0.330356</td>\n",
       "      <td>0.246771</td>\n",
       "      <td>1.000000</td>\n",
       "      <td>0.331071</td>\n",
       "      <td>0.239768</td>\n",
       "      <td>0.116753</td>\n",
       "      <td>0.332430</td>\n",
       "      <td>0.261838</td>\n",
       "      <td>-0.167620</td>\n",
       "      <td>0.092640</td>\n",
       "    </tr>\n",
       "    <tr>\n",
       "      <th>engineTransmission_engineSound_value</th>\n",
       "      <td>0.222538</td>\n",
       "      <td>-0.046290</td>\n",
       "      <td>0.140252</td>\n",
       "      <td>0.050837</td>\n",
       "      <td>0.399814</td>\n",
       "      <td>0.323905</td>\n",
       "      <td>0.268673</td>\n",
       "      <td>0.331071</td>\n",
       "      <td>1.000000</td>\n",
       "      <td>0.234679</td>\n",
       "      <td>0.108213</td>\n",
       "      <td>0.346540</td>\n",
       "      <td>0.201079</td>\n",
       "      <td>-0.267427</td>\n",
       "      <td>0.079851</td>\n",
       "    </tr>\n",
       "    <tr>\n",
       "      <th>engineTransmission_exhaustSmoke_value</th>\n",
       "      <td>0.209176</td>\n",
       "      <td>-0.015582</td>\n",
       "      <td>0.165169</td>\n",
       "      <td>0.064158</td>\n",
       "      <td>0.193315</td>\n",
       "      <td>0.276528</td>\n",
       "      <td>0.215966</td>\n",
       "      <td>0.239768</td>\n",
       "      <td>0.234679</td>\n",
       "      <td>1.000000</td>\n",
       "      <td>0.202153</td>\n",
       "      <td>0.241504</td>\n",
       "      <td>0.234794</td>\n",
       "      <td>-0.178499</td>\n",
       "      <td>0.186454</td>\n",
       "    </tr>\n",
       "    <tr>\n",
       "      <th>engineTransmission_engineBlowByBackCompression_value</th>\n",
       "      <td>0.119316</td>\n",
       "      <td>-0.007700</td>\n",
       "      <td>0.151507</td>\n",
       "      <td>0.074088</td>\n",
       "      <td>0.101561</td>\n",
       "      <td>0.193143</td>\n",
       "      <td>0.143810</td>\n",
       "      <td>0.116753</td>\n",
       "      <td>0.108213</td>\n",
       "      <td>0.202153</td>\n",
       "      <td>1.000000</td>\n",
       "      <td>0.125691</td>\n",
       "      <td>0.143601</td>\n",
       "      <td>-0.082478</td>\n",
       "      <td>0.163170</td>\n",
       "    </tr>\n",
       "    <tr>\n",
       "      <th>engineTransmission_clutch_value</th>\n",
       "      <td>0.210547</td>\n",
       "      <td>-0.029887</td>\n",
       "      <td>0.181820</td>\n",
       "      <td>0.055613</td>\n",
       "      <td>0.245471</td>\n",
       "      <td>0.333622</td>\n",
       "      <td>0.233424</td>\n",
       "      <td>0.332430</td>\n",
       "      <td>0.346540</td>\n",
       "      <td>0.241504</td>\n",
       "      <td>0.125691</td>\n",
       "      <td>1.000000</td>\n",
       "      <td>0.327611</td>\n",
       "      <td>-0.176055</td>\n",
       "      <td>0.157982</td>\n",
       "    </tr>\n",
       "    <tr>\n",
       "      <th>engineTransmission_gearShifting_value</th>\n",
       "      <td>0.150626</td>\n",
       "      <td>-0.011594</td>\n",
       "      <td>0.165195</td>\n",
       "      <td>0.082384</td>\n",
       "      <td>0.177183</td>\n",
       "      <td>0.277842</td>\n",
       "      <td>0.218354</td>\n",
       "      <td>0.261838</td>\n",
       "      <td>0.201079</td>\n",
       "      <td>0.234794</td>\n",
       "      <td>0.143601</td>\n",
       "      <td>0.327611</td>\n",
       "      <td>1.000000</td>\n",
       "      <td>-0.127433</td>\n",
       "      <td>0.153360</td>\n",
       "    </tr>\n",
       "    <tr>\n",
       "      <th>odometer_reading</th>\n",
       "      <td>-0.408025</td>\n",
       "      <td>-0.010909</td>\n",
       "      <td>-0.101358</td>\n",
       "      <td>-0.045822</td>\n",
       "      <td>-0.183450</td>\n",
       "      <td>-0.199285</td>\n",
       "      <td>-0.174574</td>\n",
       "      <td>-0.167620</td>\n",
       "      <td>-0.267427</td>\n",
       "      <td>-0.178499</td>\n",
       "      <td>-0.082478</td>\n",
       "      <td>-0.176055</td>\n",
       "      <td>-0.127433</td>\n",
       "      <td>1.000000</td>\n",
       "      <td>-0.363312</td>\n",
       "    </tr>\n",
       "    <tr>\n",
       "      <th>rating_engineTransmission</th>\n",
       "      <td>0.586554</td>\n",
       "      <td>0.113765</td>\n",
       "      <td>0.140780</td>\n",
       "      <td>0.064274</td>\n",
       "      <td>0.025761</td>\n",
       "      <td>0.181838</td>\n",
       "      <td>0.125200</td>\n",
       "      <td>0.092640</td>\n",
       "      <td>0.079851</td>\n",
       "      <td>0.186454</td>\n",
       "      <td>0.163170</td>\n",
       "      <td>0.157982</td>\n",
       "      <td>0.153360</td>\n",
       "      <td>-0.363312</td>\n",
       "      <td>1.000000</td>\n",
       "    </tr>\n",
       "  </tbody>\n",
       "</table>\n",
       "</div>"
      ],
      "text/plain": [
       "                                                        year     month  \\\n",
       "year                                                1.000000  0.006427   \n",
       "month                                               0.006427  1.000000   \n",
       "engineTransmission_battery_value                    0.190927 -0.006125   \n",
       "engineTransmission_engineoilLevelDipstick_value     0.064139  0.002642   \n",
       "engineTransmission_engineOil                        0.131861 -0.041010   \n",
       "engineTransmission_engine_value                     0.248079 -0.032707   \n",
       "engineTransmission_coolant_value                    0.199050 -0.031800   \n",
       "engineTransmission_engineMounting_value             0.149083 -0.027484   \n",
       "engineTransmission_engineSound_value                0.222538 -0.046290   \n",
       "engineTransmission_exhaustSmoke_value               0.209176 -0.015582   \n",
       "engineTransmission_engineBlowByBackCompression_...  0.119316 -0.007700   \n",
       "engineTransmission_clutch_value                     0.210547 -0.029887   \n",
       "engineTransmission_gearShifting_value               0.150626 -0.011594   \n",
       "odometer_reading                                   -0.408025 -0.010909   \n",
       "rating_engineTransmission                           0.586554  0.113765   \n",
       "\n",
       "                                                    engineTransmission_battery_value  \\\n",
       "year                                                                        0.190927   \n",
       "month                                                                      -0.006125   \n",
       "engineTransmission_battery_value                                            1.000000   \n",
       "engineTransmission_engineoilLevelDipstick_value                             0.063010   \n",
       "engineTransmission_engineOil                                                0.123408   \n",
       "engineTransmission_engine_value                                             0.219166   \n",
       "engineTransmission_coolant_value                                            0.177476   \n",
       "engineTransmission_engineMounting_value                                     0.182249   \n",
       "engineTransmission_engineSound_value                                        0.140252   \n",
       "engineTransmission_exhaustSmoke_value                                       0.165169   \n",
       "engineTransmission_engineBlowByBackCompression_...                          0.151507   \n",
       "engineTransmission_clutch_value                                             0.181820   \n",
       "engineTransmission_gearShifting_value                                       0.165195   \n",
       "odometer_reading                                                           -0.101358   \n",
       "rating_engineTransmission                                                   0.140780   \n",
       "\n",
       "                                                    engineTransmission_engineoilLevelDipstick_value  \\\n",
       "year                                                                                       0.064139   \n",
       "month                                                                                      0.002642   \n",
       "engineTransmission_battery_value                                                           0.063010   \n",
       "engineTransmission_engineoilLevelDipstick_value                                            1.000000   \n",
       "engineTransmission_engineOil                                                               0.050484   \n",
       "engineTransmission_engine_value                                                            0.102733   \n",
       "engineTransmission_coolant_value                                                           0.072697   \n",
       "engineTransmission_engineMounting_value                                                    0.065361   \n",
       "engineTransmission_engineSound_value                                                       0.050837   \n",
       "engineTransmission_exhaustSmoke_value                                                      0.064158   \n",
       "engineTransmission_engineBlowByBackCompression_...                                         0.074088   \n",
       "engineTransmission_clutch_value                                                            0.055613   \n",
       "engineTransmission_gearShifting_value                                                      0.082384   \n",
       "odometer_reading                                                                          -0.045822   \n",
       "rating_engineTransmission                                                                  0.064274   \n",
       "\n",
       "                                                    engineTransmission_engineOil  \\\n",
       "year                                                                    0.131861   \n",
       "month                                                                  -0.041010   \n",
       "engineTransmission_battery_value                                        0.123408   \n",
       "engineTransmission_engineoilLevelDipstick_value                         0.050484   \n",
       "engineTransmission_engineOil                                            1.000000   \n",
       "engineTransmission_engine_value                                         0.258777   \n",
       "engineTransmission_coolant_value                                        0.393555   \n",
       "engineTransmission_engineMounting_value                                 0.233445   \n",
       "engineTransmission_engineSound_value                                    0.399814   \n",
       "engineTransmission_exhaustSmoke_value                                   0.193315   \n",
       "engineTransmission_engineBlowByBackCompression_...                      0.101561   \n",
       "engineTransmission_clutch_value                                         0.245471   \n",
       "engineTransmission_gearShifting_value                                   0.177183   \n",
       "odometer_reading                                                       -0.183450   \n",
       "rating_engineTransmission                                               0.025761   \n",
       "\n",
       "                                                    engineTransmission_engine_value  \\\n",
       "year                                                                       0.248079   \n",
       "month                                                                     -0.032707   \n",
       "engineTransmission_battery_value                                           0.219166   \n",
       "engineTransmission_engineoilLevelDipstick_value                            0.102733   \n",
       "engineTransmission_engineOil                                               0.258777   \n",
       "engineTransmission_engine_value                                            1.000000   \n",
       "engineTransmission_coolant_value                                           0.276083   \n",
       "engineTransmission_engineMounting_value                                    0.330356   \n",
       "engineTransmission_engineSound_value                                       0.323905   \n",
       "engineTransmission_exhaustSmoke_value                                      0.276528   \n",
       "engineTransmission_engineBlowByBackCompression_...                         0.193143   \n",
       "engineTransmission_clutch_value                                            0.333622   \n",
       "engineTransmission_gearShifting_value                                      0.277842   \n",
       "odometer_reading                                                          -0.199285   \n",
       "rating_engineTransmission                                                  0.181838   \n",
       "\n",
       "                                                    engineTransmission_coolant_value  \\\n",
       "year                                                                        0.199050   \n",
       "month                                                                      -0.031800   \n",
       "engineTransmission_battery_value                                            0.177476   \n",
       "engineTransmission_engineoilLevelDipstick_value                             0.072697   \n",
       "engineTransmission_engineOil                                                0.393555   \n",
       "engineTransmission_engine_value                                             0.276083   \n",
       "engineTransmission_coolant_value                                            1.000000   \n",
       "engineTransmission_engineMounting_value                                     0.246771   \n",
       "engineTransmission_engineSound_value                                        0.268673   \n",
       "engineTransmission_exhaustSmoke_value                                       0.215966   \n",
       "engineTransmission_engineBlowByBackCompression_...                          0.143810   \n",
       "engineTransmission_clutch_value                                             0.233424   \n",
       "engineTransmission_gearShifting_value                                       0.218354   \n",
       "odometer_reading                                                           -0.174574   \n",
       "rating_engineTransmission                                                   0.125200   \n",
       "\n",
       "                                                    engineTransmission_engineMounting_value  \\\n",
       "year                                                                               0.149083   \n",
       "month                                                                             -0.027484   \n",
       "engineTransmission_battery_value                                                   0.182249   \n",
       "engineTransmission_engineoilLevelDipstick_value                                    0.065361   \n",
       "engineTransmission_engineOil                                                       0.233445   \n",
       "engineTransmission_engine_value                                                    0.330356   \n",
       "engineTransmission_coolant_value                                                   0.246771   \n",
       "engineTransmission_engineMounting_value                                            1.000000   \n",
       "engineTransmission_engineSound_value                                               0.331071   \n",
       "engineTransmission_exhaustSmoke_value                                              0.239768   \n",
       "engineTransmission_engineBlowByBackCompression_...                                 0.116753   \n",
       "engineTransmission_clutch_value                                                    0.332430   \n",
       "engineTransmission_gearShifting_value                                              0.261838   \n",
       "odometer_reading                                                                  -0.167620   \n",
       "rating_engineTransmission                                                          0.092640   \n",
       "\n",
       "                                                    engineTransmission_engineSound_value  \\\n",
       "year                                                                            0.222538   \n",
       "month                                                                          -0.046290   \n",
       "engineTransmission_battery_value                                                0.140252   \n",
       "engineTransmission_engineoilLevelDipstick_value                                 0.050837   \n",
       "engineTransmission_engineOil                                                    0.399814   \n",
       "engineTransmission_engine_value                                                 0.323905   \n",
       "engineTransmission_coolant_value                                                0.268673   \n",
       "engineTransmission_engineMounting_value                                         0.331071   \n",
       "engineTransmission_engineSound_value                                            1.000000   \n",
       "engineTransmission_exhaustSmoke_value                                           0.234679   \n",
       "engineTransmission_engineBlowByBackCompression_...                              0.108213   \n",
       "engineTransmission_clutch_value                                                 0.346540   \n",
       "engineTransmission_gearShifting_value                                           0.201079   \n",
       "odometer_reading                                                               -0.267427   \n",
       "rating_engineTransmission                                                       0.079851   \n",
       "\n",
       "                                                    engineTransmission_exhaustSmoke_value  \\\n",
       "year                                                                             0.209176   \n",
       "month                                                                           -0.015582   \n",
       "engineTransmission_battery_value                                                 0.165169   \n",
       "engineTransmission_engineoilLevelDipstick_value                                  0.064158   \n",
       "engineTransmission_engineOil                                                     0.193315   \n",
       "engineTransmission_engine_value                                                  0.276528   \n",
       "engineTransmission_coolant_value                                                 0.215966   \n",
       "engineTransmission_engineMounting_value                                          0.239768   \n",
       "engineTransmission_engineSound_value                                             0.234679   \n",
       "engineTransmission_exhaustSmoke_value                                            1.000000   \n",
       "engineTransmission_engineBlowByBackCompression_...                               0.202153   \n",
       "engineTransmission_clutch_value                                                  0.241504   \n",
       "engineTransmission_gearShifting_value                                            0.234794   \n",
       "odometer_reading                                                                -0.178499   \n",
       "rating_engineTransmission                                                        0.186454   \n",
       "\n",
       "                                                    engineTransmission_engineBlowByBackCompression_value  \\\n",
       "year                                                                                         0.119316      \n",
       "month                                                                                       -0.007700      \n",
       "engineTransmission_battery_value                                                             0.151507      \n",
       "engineTransmission_engineoilLevelDipstick_value                                              0.074088      \n",
       "engineTransmission_engineOil                                                                 0.101561      \n",
       "engineTransmission_engine_value                                                              0.193143      \n",
       "engineTransmission_coolant_value                                                             0.143810      \n",
       "engineTransmission_engineMounting_value                                                      0.116753      \n",
       "engineTransmission_engineSound_value                                                         0.108213      \n",
       "engineTransmission_exhaustSmoke_value                                                        0.202153      \n",
       "engineTransmission_engineBlowByBackCompression_...                                           1.000000      \n",
       "engineTransmission_clutch_value                                                              0.125691      \n",
       "engineTransmission_gearShifting_value                                                        0.143601      \n",
       "odometer_reading                                                                            -0.082478      \n",
       "rating_engineTransmission                                                                    0.163170      \n",
       "\n",
       "                                                    engineTransmission_clutch_value  \\\n",
       "year                                                                       0.210547   \n",
       "month                                                                     -0.029887   \n",
       "engineTransmission_battery_value                                           0.181820   \n",
       "engineTransmission_engineoilLevelDipstick_value                            0.055613   \n",
       "engineTransmission_engineOil                                               0.245471   \n",
       "engineTransmission_engine_value                                            0.333622   \n",
       "engineTransmission_coolant_value                                           0.233424   \n",
       "engineTransmission_engineMounting_value                                    0.332430   \n",
       "engineTransmission_engineSound_value                                       0.346540   \n",
       "engineTransmission_exhaustSmoke_value                                      0.241504   \n",
       "engineTransmission_engineBlowByBackCompression_...                         0.125691   \n",
       "engineTransmission_clutch_value                                            1.000000   \n",
       "engineTransmission_gearShifting_value                                      0.327611   \n",
       "odometer_reading                                                          -0.176055   \n",
       "rating_engineTransmission                                                  0.157982   \n",
       "\n",
       "                                                    engineTransmission_gearShifting_value  \\\n",
       "year                                                                             0.150626   \n",
       "month                                                                           -0.011594   \n",
       "engineTransmission_battery_value                                                 0.165195   \n",
       "engineTransmission_engineoilLevelDipstick_value                                  0.082384   \n",
       "engineTransmission_engineOil                                                     0.177183   \n",
       "engineTransmission_engine_value                                                  0.277842   \n",
       "engineTransmission_coolant_value                                                 0.218354   \n",
       "engineTransmission_engineMounting_value                                          0.261838   \n",
       "engineTransmission_engineSound_value                                             0.201079   \n",
       "engineTransmission_exhaustSmoke_value                                            0.234794   \n",
       "engineTransmission_engineBlowByBackCompression_...                               0.143601   \n",
       "engineTransmission_clutch_value                                                  0.327611   \n",
       "engineTransmission_gearShifting_value                                            1.000000   \n",
       "odometer_reading                                                                -0.127433   \n",
       "rating_engineTransmission                                                        0.153360   \n",
       "\n",
       "                                                    odometer_reading  \\\n",
       "year                                                       -0.408025   \n",
       "month                                                      -0.010909   \n",
       "engineTransmission_battery_value                           -0.101358   \n",
       "engineTransmission_engineoilLevelDipstick_value            -0.045822   \n",
       "engineTransmission_engineOil                               -0.183450   \n",
       "engineTransmission_engine_value                            -0.199285   \n",
       "engineTransmission_coolant_value                           -0.174574   \n",
       "engineTransmission_engineMounting_value                    -0.167620   \n",
       "engineTransmission_engineSound_value                       -0.267427   \n",
       "engineTransmission_exhaustSmoke_value                      -0.178499   \n",
       "engineTransmission_engineBlowByBackCompression_...         -0.082478   \n",
       "engineTransmission_clutch_value                            -0.176055   \n",
       "engineTransmission_gearShifting_value                      -0.127433   \n",
       "odometer_reading                                            1.000000   \n",
       "rating_engineTransmission                                  -0.363312   \n",
       "\n",
       "                                                    rating_engineTransmission  \n",
       "year                                                                 0.586554  \n",
       "month                                                                0.113765  \n",
       "engineTransmission_battery_value                                     0.140780  \n",
       "engineTransmission_engineoilLevelDipstick_value                      0.064274  \n",
       "engineTransmission_engineOil                                         0.025761  \n",
       "engineTransmission_engine_value                                      0.181838  \n",
       "engineTransmission_coolant_value                                     0.125200  \n",
       "engineTransmission_engineMounting_value                              0.092640  \n",
       "engineTransmission_engineSound_value                                 0.079851  \n",
       "engineTransmission_exhaustSmoke_value                                0.186454  \n",
       "engineTransmission_engineBlowByBackCompression_...                   0.163170  \n",
       "engineTransmission_clutch_value                                      0.157982  \n",
       "engineTransmission_gearShifting_value                                0.153360  \n",
       "odometer_reading                                                    -0.363312  \n",
       "rating_engineTransmission                                            1.000000  "
      ]
     },
     "execution_count": 77,
     "metadata": {},
     "output_type": "execute_result"
    }
   ],
   "source": [
    "data.corr()"
   ]
  },
  {
   "cell_type": "markdown",
   "metadata": {},
   "source": [
    "<b>P-value</b>: \n",
    "<p>What is this P-value? The P-value is the probability value that the correlation between these two variables is statistically significant. Normally, we choose a significance level of 0.05, which means that we are 95% confident that the correlation between the variables is significant.</p>\n",
    "\n",
    "By convention, when the\n",
    "<ul>\n",
    "    <li>p-value is $<$ 0.001: we say there is strong evidence that the correlation is significant.</li>\n",
    "    <li>the p-value is $<$ 0.05: there is moderate evidence that the correlation is significant.</li>\n",
    "    <li>the p-value is $<$ 0.1: there is weak evidence that the correlation is significant.</li>\n",
    "    <li>the p-value is $>$ 0.1: there is no evidence that the correlation is significant.</li>\n",
    "</ul>"
   ]
  },
  {
   "cell_type": "markdown",
   "metadata": {},
   "source": [
    " We can obtain this information using  \"stats\" module in the \"scipy\"  library."
   ]
  },
  {
   "cell_type": "code",
   "execution_count": 78,
   "metadata": {},
   "outputs": [],
   "source": [
    "from scipy import stats"
   ]
  },
  {
   "cell_type": "markdown",
   "metadata": {},
   "source": [
    "<h3>engineTransmission_battery_value vs rating_engineTransmission</h3>"
   ]
  },
  {
   "cell_type": "markdown",
   "metadata": {},
   "source": [
    "Let's calculate the  Pearson Correlation Coefficient and P-value of 'fuel_type' and 'engine_ratingTransmission'. "
   ]
  },
  {
   "cell_type": "code",
   "execution_count": 82,
   "metadata": {},
   "outputs": [
    {
     "data": {
      "text/plain": [
       "Index(['appointmentId', 'inspectionStartTime', 'year', 'month',\n",
       "       'engineTransmission_battery_value',\n",
       "       'engineTransmission_engineoilLevelDipstick_value',\n",
       "       'engineTransmission_engineOil', 'engineTransmission_engine_value',\n",
       "       'engineTransmission_coolant_value',\n",
       "       'engineTransmission_engineMounting_value',\n",
       "       'engineTransmission_engineSound_value',\n",
       "       'engineTransmission_exhaustSmoke_value',\n",
       "       'engineTransmission_engineBlowByBackCompression_value',\n",
       "       'engineTransmission_clutch_value',\n",
       "       'engineTransmission_gearShifting_value', 'fuel_type',\n",
       "       'odometer_reading', 'rating_engineTransmission'],\n",
       "      dtype='object')"
      ]
     },
     "execution_count": 82,
     "metadata": {},
     "output_type": "execute_result"
    }
   ],
   "source": [
    "data.columns"
   ]
  },
  {
   "cell_type": "code",
   "execution_count": 83,
   "metadata": {},
   "outputs": [
    {
     "name": "stdout",
     "output_type": "stream",
     "text": [
      "The Pearson Correlation Coefficient is 0.14077980203111692  with a P-value of P = 1.5801013663664042e-116\n"
     ]
    }
   ],
   "source": [
    "pearson_coef, p_value = stats.pearsonr(data['engineTransmission_battery_value'], data['rating_engineTransmission'])\n",
    "print(\"The Pearson Correlation Coefficient is\", pearson_coef, \" with a P-value of P =\", p_value)  "
   ]
  },
  {
   "cell_type": "markdown",
   "metadata": {},
   "source": [
    "<h5>Conclusion:</h5>\n",
    "<p>Since the p-value is $<$ 0.001, the correlation between wheel-base and price is statistically significant, although the linear relationship is weak (~0.14)</p>"
   ]
  },
  {
   "cell_type": "markdown",
   "metadata": {},
   "source": [
    "<h3>engineTransmission_engineoilLevelDipstick_value vs rating_engineTransmission</h3>"
   ]
  },
  {
   "cell_type": "code",
   "execution_count": 90,
   "metadata": {},
   "outputs": [
    {
     "name": "stdout",
     "output_type": "stream",
     "text": [
      "The Pearson Correlation Coefficient is 0.06427368375371195  with a P-value of P = 1.713938458056203e-25\n"
     ]
    }
   ],
   "source": [
    "pearson_coef, p_value = stats.pearsonr(data['engineTransmission_engineoilLevelDipstick_value'], data['rating_engineTransmission'])\n",
    "print(\"The Pearson Correlation Coefficient is\", pearson_coef, \" with a P-value of P =\", p_value)  "
   ]
  },
  {
   "cell_type": "markdown",
   "metadata": {},
   "source": [
    "<h5>Conclusion:</h5>\n",
    "<p>Since the p-value is $<$ 0.001, the correlation between wheel-base and price is statistically significant, although the linear relationship is weak (~0.06)</p>"
   ]
  },
  {
   "cell_type": "markdown",
   "metadata": {},
   "source": [
    "<h3>engineTransmission_engineOil vs rating_engineTransmission</h3>"
   ]
  },
  {
   "cell_type": "code",
   "execution_count": 92,
   "metadata": {},
   "outputs": [
    {
     "name": "stdout",
     "output_type": "stream",
     "text": [
      "The Pearson Correlation Coefficient is 0.025761206307743582  with a P-value of P = 2.930300618535856e-05\n"
     ]
    }
   ],
   "source": [
    "pearson_coef, p_value = stats.pearsonr(data['engineTransmission_engineOil'], data['rating_engineTransmission'])\n",
    "print(\"The Pearson Correlation Coefficient is\", pearson_coef, \" with a P-value of P =\", p_value)  "
   ]
  },
  {
   "cell_type": "markdown",
   "metadata": {},
   "source": [
    "<h5>Conclusion:</h5>\n",
    "<p>Since the p-value is $<$ 0.001, the correlation between wheel-base and price is statistically significant, although the linear relationship is weak (~0.02)</p>"
   ]
  },
  {
   "cell_type": "markdown",
   "metadata": {},
   "source": [
    "<h3>engineTransmission_engine_value vs rating_engineTransmission</h3>"
   ]
  },
  {
   "cell_type": "code",
   "execution_count": 93,
   "metadata": {},
   "outputs": [
    {
     "name": "stdout",
     "output_type": "stream",
     "text": [
      "The Pearson Correlation Coefficient is 0.18183784657558727  with a P-value of P = 2.3413686910423242e-194\n"
     ]
    }
   ],
   "source": [
    "pearson_coef, p_value = stats.pearsonr(data['engineTransmission_engine_value'], data['rating_engineTransmission'])\n",
    "print(\"The Pearson Correlation Coefficient is\", pearson_coef, \" with a P-value of P =\", p_value)  "
   ]
  },
  {
   "cell_type": "markdown",
   "metadata": {},
   "source": [
    "<h5>Conclusion:</h5>\n",
    "<p>Since the p-value is $<$ 0.001, the correlation between wheel-base and price is statistically significant, although the linear relationship is weak (~0.18)</p>"
   ]
  },
  {
   "cell_type": "markdown",
   "metadata": {},
   "source": [
    "<h3>engineTransmission_coolant_value vs rating_engineTransmission</h3>"
   ]
  },
  {
   "cell_type": "code",
   "execution_count": 94,
   "metadata": {},
   "outputs": [
    {
     "name": "stdout",
     "output_type": "stream",
     "text": [
      "The Pearson Correlation Coefficient is 0.12519962468578605  with a P-value of P = 2.2280330731045746e-92\n"
     ]
    }
   ],
   "source": [
    "pearson_coef, p_value = stats.pearsonr(data['engineTransmission_coolant_value'], data['rating_engineTransmission'])\n",
    "print(\"The Pearson Correlation Coefficient is\", pearson_coef, \" with a P-value of P =\", p_value)  "
   ]
  },
  {
   "cell_type": "markdown",
   "metadata": {},
   "source": [
    "<h5>Conclusion:</h5>\n",
    "<p>Since the p-value is $<$ 0.001, the correlation between wheel-base and price is statistically significant, although the linear relationship is weak (~0.12)</p>"
   ]
  },
  {
   "cell_type": "markdown",
   "metadata": {},
   "source": [
    "<h3>engineTransmission_engineMounting_value vs rating_engineTransmission</h3>"
   ]
  },
  {
   "cell_type": "code",
   "execution_count": 95,
   "metadata": {},
   "outputs": [
    {
     "name": "stdout",
     "output_type": "stream",
     "text": [
      "The Pearson Correlation Coefficient is 0.0926403713913983  with a P-value of P = 3.0861225720752494e-51\n"
     ]
    }
   ],
   "source": [
    "pearson_coef, p_value = stats.pearsonr(data['engineTransmission_engineMounting_value'], data['rating_engineTransmission'])\n",
    "print(\"The Pearson Correlation Coefficient is\", pearson_coef, \" with a P-value of P =\", p_value)  "
   ]
  },
  {
   "cell_type": "markdown",
   "metadata": {},
   "source": [
    "<h5>Conclusion:</h5>\n",
    "<p>Since the p-value is $<$ 0.001, the correlation between wheel-base and price is statistically significant, although the linear relationship is weak (~0.09)</p>"
   ]
  },
  {
   "cell_type": "markdown",
   "metadata": {},
   "source": [
    "<h3>engineTransmission_engineSound_value vs rating_engineTransmission</h3>"
   ]
  },
  {
   "cell_type": "code",
   "execution_count": 96,
   "metadata": {},
   "outputs": [
    {
     "name": "stdout",
     "output_type": "stream",
     "text": [
      "The Pearson Correlation Coefficient is 0.07985146626085697  with a P-value of P = 1.7739313130275944e-38\n"
     ]
    }
   ],
   "source": [
    "pearson_coef, p_value = stats.pearsonr(data['engineTransmission_engineSound_value'], data['rating_engineTransmission'])\n",
    "print(\"The Pearson Correlation Coefficient is\", pearson_coef, \" with a P-value of P =\", p_value)  "
   ]
  },
  {
   "cell_type": "markdown",
   "metadata": {},
   "source": [
    "<h5>Conclusion:</h5>\n",
    "<p>Since the p-value is $<$ 0.001, the correlation between wheel-base and price is statistically significant, although the linear relationship is weak (~0.07)</p>"
   ]
  },
  {
   "cell_type": "markdown",
   "metadata": {},
   "source": [
    "<h3>engineTransmission_exhaustSmoke_value vs rating_engineTransmission</h3>"
   ]
  },
  {
   "cell_type": "code",
   "execution_count": 98,
   "metadata": {},
   "outputs": [
    {
     "name": "stdout",
     "output_type": "stream",
     "text": [
      "The Pearson Correlation Coefficient is 0.18645402709402664  with a P-value of P = 2.0258620442266773e-204\n"
     ]
    }
   ],
   "source": [
    "pearson_coef, p_value = stats.pearsonr(data['engineTransmission_exhaustSmoke_value'], data['rating_engineTransmission'])\n",
    "print(\"The Pearson Correlation Coefficient is\", pearson_coef, \" with a P-value of P =\", p_value)  "
   ]
  },
  {
   "cell_type": "markdown",
   "metadata": {},
   "source": [
    "<h5>Conclusion:</h5>\n",
    "<p>Since the p-value is $<$ 0.001, the correlation between wheel-base and price is statistically significant, although the linear relationship is weak (~0.18)</p>"
   ]
  },
  {
   "cell_type": "markdown",
   "metadata": {},
   "source": [
    "<h3>engineTransmission_engineBlowByBackCompression_value vs rating_engineTransmission</h3>"
   ]
  },
  {
   "cell_type": "code",
   "execution_count": 99,
   "metadata": {},
   "outputs": [
    {
     "name": "stdout",
     "output_type": "stream",
     "text": [
      "The Pearson Correlation Coefficient is 0.16317038302349218  with a P-value of P = 2.1694181516241778e-156\n"
     ]
    }
   ],
   "source": [
    "pearson_coef, p_value = stats.pearsonr(data['engineTransmission_engineBlowByBackCompression_value'], data['rating_engineTransmission'])\n",
    "print(\"The Pearson Correlation Coefficient is\", pearson_coef, \" with a P-value of P =\", p_value)  "
   ]
  },
  {
   "cell_type": "markdown",
   "metadata": {},
   "source": [
    "<h5>Conclusion:</h5>\n",
    "<p>Since the p-value is $<$ 0.001, the correlation between wheel-base and price is statistically significant, although the linear relationship is weak (~0.16)</p>"
   ]
  },
  {
   "cell_type": "markdown",
   "metadata": {},
   "source": [
    "<h3>engineTransmission_clutch_value vs rating_engineTransmission</h3>"
   ]
  },
  {
   "cell_type": "code",
   "execution_count": 100,
   "metadata": {},
   "outputs": [
    {
     "name": "stdout",
     "output_type": "stream",
     "text": [
      "The Pearson Correlation Coefficient is 0.15798199265175464  with a P-value of P = 1.318594066872221e-146\n"
     ]
    }
   ],
   "source": [
    "pearson_coef, p_value = stats.pearsonr(data['engineTransmission_clutch_value'], data['rating_engineTransmission'])\n",
    "print(\"The Pearson Correlation Coefficient is\", pearson_coef, \" with a P-value of P =\", p_value)  "
   ]
  },
  {
   "cell_type": "markdown",
   "metadata": {},
   "source": [
    "<h5>Conclusion:</h5>\n",
    "<p>Since the p-value is $<$ 0.001, the correlation between wheel-base and price is statistically significant, although the linear relationship is weak (~0.158)</p>"
   ]
  },
  {
   "cell_type": "markdown",
   "metadata": {},
   "source": [
    "<h3>engineTransmission_gearShifting_value vs rating_engineTransmission</h3>"
   ]
  },
  {
   "cell_type": "code",
   "execution_count": 102,
   "metadata": {},
   "outputs": [
    {
     "name": "stdout",
     "output_type": "stream",
     "text": [
      "The Pearson Correlation Coefficient is 0.15335961217819033  with a P-value of P = 3.610935203484869e-138\n"
     ]
    }
   ],
   "source": [
    "pearson_coef, p_value = stats.pearsonr(data['engineTransmission_gearShifting_value'], data['rating_engineTransmission'])\n",
    "print(\"The Pearson Correlation Coefficient is\", pearson_coef, \" with a P-value of P =\", p_value)  "
   ]
  },
  {
   "cell_type": "markdown",
   "metadata": {},
   "source": [
    "<h5>Conclusion:</h5>\n",
    "<p>Since the p-value is $<$ 0.001, the correlation between wheel-base and price is statistically significant, although the linear relationship is weak (~0.153)</p>"
   ]
  },
  {
   "cell_type": "markdown",
   "metadata": {},
   "source": [
    "### Pearson correlation heatmap."
   ]
  },
  {
   "cell_type": "code",
   "execution_count": 113,
   "metadata": {},
   "outputs": [
    {
     "data": {
      "image/png": "[encoded data removed]",
      "text/plain": [
       "<Figure size 864x720 with 2 Axes>"
      ]
     },
     "metadata": {
      "needs_background": "light"
     },
     "output_type": "display_data"
    }
   ],
   "source": [
    "#Using Pearson Correlation\n",
    "plt.figure(figsize=(12,10))\n",
    "cor = data.corr()\n",
    "sns.heatmap(cor, annot=True, cmap=plt.cm.Reds)\n",
    "plt.show()"
   ]
  },
  {
   "cell_type": "markdown",
   "metadata": {},
   "source": [
    "<h2 id=\"anova\">6. ANOVA</h2>"
   ]
  },
  {
   "cell_type": "markdown",
   "metadata": {},
   "source": [
    "<h3>ANOVA: Analysis of Variance</h3>\n",
    "<p>The Analysis of Variance  (ANOVA) is a statistical method used to test whether there are significant differences between the means of two or more groups. ANOVA returns two parameters:</p>\n",
    "\n",
    "<p><b>F-test score</b>: ANOVA assumes the means of all groups are the same, calculates how much the actual means deviate from the assumption, and reports it as the F-test score. A larger score means there is a larger difference between the means.</p>\n",
    "\n",
    "<p><b>P-value</b>:  P-value tells how statistically significant is our calculated score value.</p>\n",
    "\n",
    "<p>If our price variable is strongly correlated with the variable we are analyzing, expect ANOVA to return a sizeable F-test score and a small p-value.</p>"
   ]
  },
  {
   "cell_type": "markdown",
   "metadata": {},
   "source": [
    "<h3>Fuel Type</h3>"
   ]
  },
  {
   "cell_type": "markdown",
   "metadata": {},
   "source": [
    "<p>Since ANOVA analyzes the difference between different groups of the same variable, the groupby function will come in handy. Because the ANOVA algorithm averages the data automatically, we do not need to take the average before hand.</p>\n",
    "\n",
    "<p>Let's see if different types 'fuel_type' impact  'rating_engineTransmission', we group the data.</p>"
   ]
  },
  {
   "cell_type": "code",
   "execution_count": 109,
   "metadata": {},
   "outputs": [
    {
     "data": {
      "text/html": [
       "<div>\n",
       "<style scoped>\n",
       "    .dataframe tbody tr th:only-of-type {\n",
       "        vertical-align: middle;\n",
       "    }\n",
       "\n",
       "    .dataframe tbody tr th {\n",
       "        vertical-align: top;\n",
       "    }\n",
       "\n",
       "    .dataframe thead th {\n",
       "        text-align: right;\n",
       "    }\n",
       "</style>\n",
       "<table border=\"1\" class=\"dataframe\">\n",
       "  <thead>\n",
       "    <tr style=\"text-align: right;\">\n",
       "      <th></th>\n",
       "      <th>fuel_type</th>\n",
       "      <th>rating_engineTransmission</th>\n",
       "    </tr>\n",
       "  </thead>\n",
       "  <tbody>\n",
       "    <tr>\n",
       "      <th>0</th>\n",
       "      <td>Petrol + CNG</td>\n",
       "      <td>3.0</td>\n",
       "    </tr>\n",
       "    <tr>\n",
       "      <th>1</th>\n",
       "      <td>Petrol + CNG</td>\n",
       "      <td>4.0</td>\n",
       "    </tr>\n",
       "    <tr>\n",
       "      <th>2</th>\n",
       "      <td>Diesel</td>\n",
       "      <td>3.5</td>\n",
       "    </tr>\n",
       "    <tr>\n",
       "      <th>3</th>\n",
       "      <td>Petrol + CNG</td>\n",
       "      <td>3.5</td>\n",
       "    </tr>\n",
       "    <tr>\n",
       "      <th>4</th>\n",
       "      <td>Petrol + CNG</td>\n",
       "      <td>4.0</td>\n",
       "    </tr>\n",
       "    <tr>\n",
       "      <th>5</th>\n",
       "      <td>Diesel</td>\n",
       "      <td>3.5</td>\n",
       "    </tr>\n",
       "    <tr>\n",
       "      <th>6</th>\n",
       "      <td>Diesel</td>\n",
       "      <td>3.5</td>\n",
       "    </tr>\n",
       "    <tr>\n",
       "      <th>7</th>\n",
       "      <td>Petrol + CNG</td>\n",
       "      <td>4.0</td>\n",
       "    </tr>\n",
       "    <tr>\n",
       "      <th>9</th>\n",
       "      <td>Diesel</td>\n",
       "      <td>4.0</td>\n",
       "    </tr>\n",
       "    <tr>\n",
       "      <th>11</th>\n",
       "      <td>Diesel</td>\n",
       "      <td>3.5</td>\n",
       "    </tr>\n",
       "    <tr>\n",
       "      <th>13</th>\n",
       "      <td>Petrol</td>\n",
       "      <td>4.0</td>\n",
       "    </tr>\n",
       "    <tr>\n",
       "      <th>14</th>\n",
       "      <td>Petrol</td>\n",
       "      <td>4.0</td>\n",
       "    </tr>\n",
       "    <tr>\n",
       "      <th>15</th>\n",
       "      <td>Petrol</td>\n",
       "      <td>4.0</td>\n",
       "    </tr>\n",
       "    <tr>\n",
       "      <th>16</th>\n",
       "      <td>Petrol</td>\n",
       "      <td>3.5</td>\n",
       "    </tr>\n",
       "    <tr>\n",
       "      <th>18</th>\n",
       "      <td>Petrol</td>\n",
       "      <td>4.0</td>\n",
       "    </tr>\n",
       "    <tr>\n",
       "      <th>1105</th>\n",
       "      <td>Petrol + LPG</td>\n",
       "      <td>3.0</td>\n",
       "    </tr>\n",
       "    <tr>\n",
       "      <th>1237</th>\n",
       "      <td>Petrol + LPG</td>\n",
       "      <td>4.0</td>\n",
       "    </tr>\n",
       "    <tr>\n",
       "      <th>1430</th>\n",
       "      <td>Petrol + LPG</td>\n",
       "      <td>4.0</td>\n",
       "    </tr>\n",
       "    <tr>\n",
       "      <th>1849</th>\n",
       "      <td>Hybrid</td>\n",
       "      <td>5.0</td>\n",
       "    </tr>\n",
       "    <tr>\n",
       "      <th>2130</th>\n",
       "      <td>Petrol + LPG</td>\n",
       "      <td>4.0</td>\n",
       "    </tr>\n",
       "    <tr>\n",
       "      <th>2240</th>\n",
       "      <td>Petrol + LPG</td>\n",
       "      <td>4.0</td>\n",
       "    </tr>\n",
       "    <tr>\n",
       "      <th>6582</th>\n",
       "      <td>Hybrid</td>\n",
       "      <td>4.5</td>\n",
       "    </tr>\n",
       "    <tr>\n",
       "      <th>9418</th>\n",
       "      <td>Electric</td>\n",
       "      <td>2.0</td>\n",
       "    </tr>\n",
       "    <tr>\n",
       "      <th>9724</th>\n",
       "      <td>Hybrid</td>\n",
       "      <td>4.5</td>\n",
       "    </tr>\n",
       "    <tr>\n",
       "      <th>11601</th>\n",
       "      <td>Hybrid</td>\n",
       "      <td>4.5</td>\n",
       "    </tr>\n",
       "    <tr>\n",
       "      <th>13261</th>\n",
       "      <td>Electric</td>\n",
       "      <td>3.5</td>\n",
       "    </tr>\n",
       "    <tr>\n",
       "      <th>15386</th>\n",
       "      <td>Hybrid</td>\n",
       "      <td>4.5</td>\n",
       "    </tr>\n",
       "  </tbody>\n",
       "</table>\n",
       "</div>"
      ],
      "text/plain": [
       "          fuel_type  rating_engineTransmission\n",
       "0      Petrol + CNG                        3.0\n",
       "1      Petrol + CNG                        4.0\n",
       "2            Diesel                        3.5\n",
       "3      Petrol + CNG                        3.5\n",
       "4      Petrol + CNG                        4.0\n",
       "5            Diesel                        3.5\n",
       "6            Diesel                        3.5\n",
       "7      Petrol + CNG                        4.0\n",
       "9            Diesel                        4.0\n",
       "11           Diesel                        3.5\n",
       "13           Petrol                        4.0\n",
       "14           Petrol                        4.0\n",
       "15           Petrol                        4.0\n",
       "16           Petrol                        3.5\n",
       "18           Petrol                        4.0\n",
       "1105   Petrol + LPG                        3.0\n",
       "1237   Petrol + LPG                        4.0\n",
       "1430   Petrol + LPG                        4.0\n",
       "1849         Hybrid                        5.0\n",
       "2130   Petrol + LPG                        4.0\n",
       "2240   Petrol + LPG                        4.0\n",
       "6582         Hybrid                        4.5\n",
       "9418       Electric                        2.0\n",
       "9724         Hybrid                        4.5\n",
       "11601        Hybrid                        4.5\n",
       "13261      Electric                        3.5\n",
       "15386        Hybrid                        4.5"
      ]
     },
     "execution_count": 109,
     "metadata": {},
     "output_type": "execute_result"
    }
   ],
   "source": [
    "grouped_test2=df_gptest[['fuel_type', 'rating_engineTransmission']].groupby(['fuel_type'])\n",
    "grouped_test2.head()"
   ]
  },
  {
   "cell_type": "code",
   "execution_count": 110,
   "metadata": {},
   "outputs": [
    {
     "data": {
      "text/html": [
       "<div>\n",
       "<style scoped>\n",
       "    .dataframe tbody tr th:only-of-type {\n",
       "        vertical-align: middle;\n",
       "    }\n",
       "\n",
       "    .dataframe tbody tr th {\n",
       "        vertical-align: top;\n",
       "    }\n",
       "\n",
       "    .dataframe thead th {\n",
       "        text-align: right;\n",
       "    }\n",
       "</style>\n",
       "<table border=\"1\" class=\"dataframe\">\n",
       "  <thead>\n",
       "    <tr style=\"text-align: right;\">\n",
       "      <th></th>\n",
       "      <th>fuel_type</th>\n",
       "      <th>odometer_reading</th>\n",
       "      <th>rating_engineTransmission</th>\n",
       "    </tr>\n",
       "  </thead>\n",
       "  <tbody>\n",
       "    <tr>\n",
       "      <th>0</th>\n",
       "      <td>Petrol + CNG</td>\n",
       "      <td>0.124600</td>\n",
       "      <td>3.0</td>\n",
       "    </tr>\n",
       "    <tr>\n",
       "      <th>1</th>\n",
       "      <td>Petrol + CNG</td>\n",
       "      <td>0.078108</td>\n",
       "      <td>4.0</td>\n",
       "    </tr>\n",
       "    <tr>\n",
       "      <th>2</th>\n",
       "      <td>Diesel</td>\n",
       "      <td>0.093348</td>\n",
       "      <td>3.5</td>\n",
       "    </tr>\n",
       "    <tr>\n",
       "      <th>3</th>\n",
       "      <td>Petrol + CNG</td>\n",
       "      <td>0.048233</td>\n",
       "      <td>3.5</td>\n",
       "    </tr>\n",
       "    <tr>\n",
       "      <th>4</th>\n",
       "      <td>Petrol + CNG</td>\n",
       "      <td>0.074368</td>\n",
       "      <td>4.0</td>\n",
       "    </tr>\n",
       "    <tr>\n",
       "      <th>...</th>\n",
       "      <td>...</td>\n",
       "      <td>...</td>\n",
       "      <td>...</td>\n",
       "    </tr>\n",
       "    <tr>\n",
       "      <th>26302</th>\n",
       "      <td>Petrol + CNG</td>\n",
       "      <td>0.064532</td>\n",
       "      <td>4.0</td>\n",
       "    </tr>\n",
       "    <tr>\n",
       "      <th>26303</th>\n",
       "      <td>Petrol</td>\n",
       "      <td>0.088051</td>\n",
       "      <td>4.0</td>\n",
       "    </tr>\n",
       "    <tr>\n",
       "      <th>26304</th>\n",
       "      <td>Petrol</td>\n",
       "      <td>0.022656</td>\n",
       "      <td>3.5</td>\n",
       "    </tr>\n",
       "    <tr>\n",
       "      <th>26305</th>\n",
       "      <td>Diesel</td>\n",
       "      <td>0.126015</td>\n",
       "      <td>4.5</td>\n",
       "    </tr>\n",
       "    <tr>\n",
       "      <th>26306</th>\n",
       "      <td>Petrol</td>\n",
       "      <td>0.023983</td>\n",
       "      <td>4.5</td>\n",
       "    </tr>\n",
       "  </tbody>\n",
       "</table>\n",
       "<p>26307 rows × 3 columns</p>\n",
       "</div>"
      ],
      "text/plain": [
       "          fuel_type  odometer_reading  rating_engineTransmission\n",
       "0      Petrol + CNG          0.124600                        3.0\n",
       "1      Petrol + CNG          0.078108                        4.0\n",
       "2            Diesel          0.093348                        3.5\n",
       "3      Petrol + CNG          0.048233                        3.5\n",
       "4      Petrol + CNG          0.074368                        4.0\n",
       "...             ...               ...                        ...\n",
       "26302  Petrol + CNG          0.064532                        4.0\n",
       "26303        Petrol          0.088051                        4.0\n",
       "26304        Petrol          0.022656                        3.5\n",
       "26305        Diesel          0.126015                        4.5\n",
       "26306        Petrol          0.023983                        4.5\n",
       "\n",
       "[26307 rows x 3 columns]"
      ]
     },
     "execution_count": 110,
     "metadata": {},
     "output_type": "execute_result"
    }
   ],
   "source": [
    "df_gptest"
   ]
  },
  {
   "cell_type": "markdown",
   "metadata": {},
   "source": [
    "We can obtain the values of the method group using the method \"get_group\".  "
   ]
  },
  {
   "cell_type": "code",
   "execution_count": 111,
   "metadata": {},
   "outputs": [
    {
     "data": {
      "text/plain": [
       "13       4.0\n",
       "14       4.0\n",
       "15       4.0\n",
       "16       3.5\n",
       "18       4.0\n",
       "        ... \n",
       "26285    4.0\n",
       "26289    3.5\n",
       "26303    4.0\n",
       "26304    3.5\n",
       "26306    4.5\n",
       "Name: rating_engineTransmission, Length: 10719, dtype: float64"
      ]
     },
     "execution_count": 111,
     "metadata": {},
     "output_type": "execute_result"
    }
   ],
   "source": [
    "grouped_test2.get_group('Petrol')['rating_engineTransmission']"
   ]
  },
  {
   "cell_type": "markdown",
   "metadata": {},
   "source": [
    "We can use the function 'f_oneway' in the module 'stats'  to obtain the <b>F-test score</b> and <b>P-value</b>."
   ]
  },
  {
   "cell_type": "code",
   "execution_count": 112,
   "metadata": {},
   "outputs": [
    {
     "name": "stdout",
     "output_type": "stream",
     "text": [
      "ANOVA results: F= 54.484555898858545 , P = 1.6757801061342162e-56\n"
     ]
    }
   ],
   "source": [
    "# ANOVA\n",
    "f_val, p_val = stats.f_oneway(grouped_test2.get_group('Petrol')['rating_engineTransmission'], grouped_test2.get_group('Diesel')['rating_engineTransmission'], grouped_test2.get_group('Hybrid')['rating_engineTransmission'],grouped_test2.get_group('Petrol + LPG')['rating_engineTransmission'], grouped_test2.get_group('Petrol + CNG')['rating_engineTransmission'], grouped_test2.get_group('Electric')['rating_engineTransmission'])  \n",
    " \n",
    "print( \"ANOVA results: F=\", f_val, \", P =\", p_val)   "
   ]
  },
  {
   "cell_type": "markdown",
   "metadata": {},
   "source": [
    "This is a great result, with a large F test score showing a strong correlation and a P value of almost 0 implying almost certain statistical significance. But does this mean all five tested groups are all this highly correlated? "
   ]
  },
  {
   "cell_type": "markdown",
   "metadata": {},
   "source": [
    "### Seperately"
   ]
  },
  {
   "cell_type": "markdown",
   "metadata": {},
   "source": [
    "<h4>Petrol and Diesel</h4>"
   ]
  },
  {
   "cell_type": "code",
   "execution_count": 114,
   "metadata": {},
   "outputs": [
    {
     "name": "stdout",
     "output_type": "stream",
     "text": [
      "ANOVA results: F= 0.5003100364426675 , P = 0.47937192333411516\n"
     ]
    }
   ],
   "source": [
    "# ANOVA\n",
    "f_val, p_val = stats.f_oneway(grouped_test2.get_group('Petrol')['rating_engineTransmission'], grouped_test2.get_group('Diesel')['rating_engineTransmission'])  \n",
    " \n",
    "print( \"ANOVA results: F=\", f_val, \", P =\", p_val)   "
   ]
  },
  {
   "cell_type": "code",
   "execution_count": 115,
   "metadata": {},
   "outputs": [
    {
     "name": "stdout",
     "output_type": "stream",
     "text": [
      "ANOVA results: F= 4.979794491416085 , P = 0.025665616480437015\n"
     ]
    }
   ],
   "source": [
    "# ANOVA\n",
    "f_val, p_val = stats.f_oneway(grouped_test2.get_group('Petrol')['rating_engineTransmission'], grouped_test2.get_group('Hybrid')['rating_engineTransmission'])  \n",
    " \n",
    "print( \"ANOVA results: F=\", f_val, \", P =\", p_val)   "
   ]
  },
  {
   "cell_type": "code",
   "execution_count": 116,
   "metadata": {},
   "outputs": [
    {
     "name": "stdout",
     "output_type": "stream",
     "text": [
      "ANOVA results: F= 1.973860608388654 , P = 0.1600676542907736\n"
     ]
    }
   ],
   "source": [
    "# ANOVA\n",
    "f_val, p_val = stats.f_oneway(grouped_test2.get_group('Petrol')['rating_engineTransmission'], grouped_test2.get_group('Electric')['rating_engineTransmission'])  \n",
    " \n",
    "print( \"ANOVA results: F=\", f_val, \", P =\", p_val)   "
   ]
  },
  {
   "cell_type": "code",
   "execution_count": 117,
   "metadata": {},
   "outputs": [
    {
     "name": "stdout",
     "output_type": "stream",
     "text": [
      "ANOVA results: F= 5.786870614312126 , P = 0.016163047922051213\n"
     ]
    }
   ],
   "source": [
    "# ANOVA\n",
    "f_val, p_val = stats.f_oneway(grouped_test2.get_group('Petrol')['rating_engineTransmission'], grouped_test2.get_group('Petrol + LPG')['rating_engineTransmission'])  \n",
    " \n",
    "print( \"ANOVA results: F=\", f_val, \", P =\", p_val)   "
   ]
  },
  {
   "cell_type": "code",
   "execution_count": 118,
   "metadata": {},
   "outputs": [
    {
     "name": "stdout",
     "output_type": "stream",
     "text": [
      "ANOVA results: F= 212.57012973299706 , P = 7.543039962080448e-48\n"
     ]
    }
   ],
   "source": [
    "# ANOVA\n",
    "f_val, p_val = stats.f_oneway(grouped_test2.get_group('Petrol')['rating_engineTransmission'], grouped_test2.get_group('Petrol + CNG')['rating_engineTransmission'])  \n",
    " \n",
    "print( \"ANOVA results: F=\", f_val, \", P =\", p_val)   "
   ]
  },
  {
   "cell_type": "code",
   "execution_count": 119,
   "metadata": {},
   "outputs": [
    {
     "name": "stdout",
     "output_type": "stream",
     "text": [
      "ANOVA results: F= 6.766549795439198 , P = 0.009302043778274746\n"
     ]
    }
   ],
   "source": [
    "# ANOVA\n",
    "f_val, p_val = stats.f_oneway(grouped_test2.get_group('Diesel')['rating_engineTransmission'], grouped_test2.get_group('Hybrid')['rating_engineTransmission'])  \n",
    " \n",
    "print( \"ANOVA results: F=\", f_val, \", P =\", p_val)   "
   ]
  },
  {
   "cell_type": "code",
   "execution_count": 120,
   "metadata": {},
   "outputs": [
    {
     "name": "stdout",
     "output_type": "stream",
     "text": [
      "ANOVA results: F= 2.584142168348097 , P = 0.1079707772093985\n"
     ]
    }
   ],
   "source": [
    "# ANOVA\n",
    "f_val, p_val = stats.f_oneway(grouped_test2.get_group('Diesel')['rating_engineTransmission'], grouped_test2.get_group('Electric')['rating_engineTransmission'])  \n",
    " \n",
    "print( \"ANOVA results: F=\", f_val, \", P =\", p_val)   "
   ]
  },
  {
   "cell_type": "code",
   "execution_count": 121,
   "metadata": {},
   "outputs": [
    {
     "name": "stdout",
     "output_type": "stream",
     "text": [
      "ANOVA results: F= 7.257306673002023 , P = 0.007073154076404549\n"
     ]
    }
   ],
   "source": [
    "# ANOVA\n",
    "f_val, p_val = stats.f_oneway(grouped_test2.get_group('Diesel')['rating_engineTransmission'], grouped_test2.get_group('Petrol + LPG')['rating_engineTransmission'])  \n",
    " \n",
    "print( \"ANOVA results: F=\", f_val, \", P =\", p_val)   "
   ]
  },
  {
   "cell_type": "code",
   "execution_count": 122,
   "metadata": {},
   "outputs": [
    {
     "name": "stdout",
     "output_type": "stream",
     "text": [
      "ANOVA results: F= 234.8947063685169 , P = 1.239747544643816e-52\n"
     ]
    }
   ],
   "source": [
    "# ANOVA\n",
    "f_val, p_val = stats.f_oneway(grouped_test2.get_group('Diesel')['rating_engineTransmission'], grouped_test2.get_group('Petrol + CNG')['rating_engineTransmission'])  \n",
    " \n",
    "print( \"ANOVA results: F=\", f_val, \", P =\", p_val)   "
   ]
  },
  {
   "cell_type": "code",
   "execution_count": 123,
   "metadata": {},
   "outputs": [
    {
     "name": "stdout",
     "output_type": "stream",
     "text": [
      "ANOVA results: F= 18.4501347708895 , P = 0.007749494765860931\n"
     ]
    }
   ],
   "source": [
    "# ANOVA\n",
    "f_val, p_val = stats.f_oneway(grouped_test2.get_group('Hybrid')['rating_engineTransmission'], grouped_test2.get_group('Electric')['rating_engineTransmission'])  \n",
    " \n",
    "print( \"ANOVA results: F=\", f_val, \", P =\", p_val)   "
   ]
  },
  {
   "cell_type": "code",
   "execution_count": 124,
   "metadata": {},
   "outputs": [
    {
     "name": "stdout",
     "output_type": "stream",
     "text": [
      "ANOVA results: F= 10.513182650726343 , P = 0.0019097380674855593\n"
     ]
    }
   ],
   "source": [
    "# ANOVA\n",
    "f_val, p_val = stats.f_oneway(grouped_test2.get_group('Hybrid')['rating_engineTransmission'], grouped_test2.get_group('Petrol + LPG')['rating_engineTransmission'])  \n",
    " \n",
    "print( \"ANOVA results: F=\", f_val, \", P =\", p_val)   "
   ]
  },
  {
   "cell_type": "code",
   "execution_count": 125,
   "metadata": {},
   "outputs": [
    {
     "name": "stdout",
     "output_type": "stream",
     "text": [
      "ANOVA results: F= 12.006072861171765 , P = 0.0005342297988006272\n"
     ]
    }
   ],
   "source": [
    "# ANOVA\n",
    "f_val, p_val = stats.f_oneway(grouped_test2.get_group('Hybrid')['rating_engineTransmission'], grouped_test2.get_group('Petrol + CNG')['rating_engineTransmission'])  \n",
    " \n",
    "print( \"ANOVA results: F=\", f_val, \", P =\", p_val)   "
   ]
  },
  {
   "cell_type": "code",
   "execution_count": 128,
   "metadata": {},
   "outputs": [
    {
     "name": "stdout",
     "output_type": "stream",
     "text": [
      "ANOVA results: F= 1.1016930050102989 , P = 0.2981753507618582\n"
     ]
    }
   ],
   "source": [
    "# ANOVA\n",
    "f_val, p_val = stats.f_oneway(grouped_test2.get_group('Electric')['rating_engineTransmission'], grouped_test2.get_group('Petrol + LPG')['rating_engineTransmission'])  \n",
    " \n",
    "print( \"ANOVA results: F=\", f_val, \", P =\", p_val)   "
   ]
  },
  {
   "cell_type": "code",
   "execution_count": 129,
   "metadata": {},
   "outputs": [
    {
     "name": "stdout",
     "output_type": "stream",
     "text": [
      "ANOVA results: F= 1.9051483246125143 , P = 0.16755801810819662\n"
     ]
    }
   ],
   "source": [
    "# ANOVA\n",
    "f_val, p_val = stats.f_oneway(grouped_test2.get_group('Electric')['rating_engineTransmission'], grouped_test2.get_group('Petrol + CNG')['rating_engineTransmission'])  \n",
    " \n",
    "print( \"ANOVA results: F=\", f_val, \", P =\", p_val)   "
   ]
  },
  {
   "cell_type": "code",
   "execution_count": 130,
   "metadata": {},
   "outputs": [
    {
     "name": "stdout",
     "output_type": "stream",
     "text": [
      "ANOVA results: F= 0.7591712376989854 , P = 0.3836248050721842\n"
     ]
    }
   ],
   "source": [
    "# ANOVA\n",
    "f_val, p_val = stats.f_oneway(grouped_test2.get_group('Petrol + CNG')['rating_engineTransmission'], grouped_test2.get_group('Petrol + LPG')['rating_engineTransmission'])  \n",
    " \n",
    "print( \"ANOVA results: F=\", f_val, \", P =\", p_val)   "
   ]
  },
  {
   "cell_type": "markdown",
   "metadata": {},
   "source": [
    "<p>We now have a better idea of what our data looks like and which variables are important to take into account when predicting the car price. We have narrowed it down to the following variables:</p>\n",
    "\n",
    "Continuous numerical variables:\n",
    "<ul>\n",
    "    <li>Year</li>\n",
    "    <li>odometer_reading</li>\n",
    "</ul>\n",
    "    \n",
    "Categorical variables:\n",
    "<ul>\n",
    "    <li>engineTransmission_battery_value</li>\n",
    "    <li>engineTransmission_engineoilLevelDipstick_value</li>\n",
    "    <li>engineTransmission_engineOil</li>\n",
    "    <li>engineTransmission_engine_value</li>\n",
    "    <li>engineTransmission_coolant_value</li>\n",
    "    <li>engineTransmission_engineMounting_value</li>\n",
    "    <li>engineTransmission_engineSound_value</li>\n",
    "    <li>engineTransmission_exhaustSmoke_value</li>\n",
    "    <li>engineTransmission_engineBlowByBackCompression_value</li>\n",
    "    <li>engineTransmission_clutch_value</li>\n",
    "    <li>engineTransmission_gearShifting_value</li>\n",
    "    <li>fuel_type</li>\n",
    "\n",
    "</ul>\n",
    "\n",
    "<p>As we now move into building machine learning models to automate our analysis, feeding the model with variables that meaningfully affect our target variable will improve our model's prediction performance.</p>"
   ]
  }
 ],
 "metadata": {
  "kernelspec": {
   "display_name": "Python 3",
   "language": "python",
   "name": "python3"
  },
  "language_info": {
   "codemirror_mode": {
    "name": "ipython",
    "version": 3
   },
   "file_extension": ".py",
   "mimetype": "text/x-python",
   "name": "python",
   "nbconvert_exporter": "python",
   "pygments_lexer": "ipython3",
   "version": "3.8.3"
  }
 },
 "nbformat": 4,
 "nbformat_minor": 4
}
